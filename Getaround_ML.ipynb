{
  "nbformat": 4,
  "nbformat_minor": 0,
  "metadata": {
    "colab": {
      "provenance": [],
      "toc_visible": true,
      "authorship_tag": "ABX9TyN9xdBbcjlI6BC6nsCvvgYz",
      "include_colab_link": true
    },
    "kernelspec": {
      "name": "python3",
      "display_name": "Python 3"
    },
    "language_info": {
      "name": "python"
    }
  },
  "cells": [
    {
      "cell_type": "markdown",
      "metadata": {
        "id": "view-in-github",
        "colab_type": "text"
      },
      "source": [
        "<a href=\"https://colab.research.google.com/github/LionelSh/Jedha-GetAround-B5/blob/main/Getaround_ML.ipynb\" target=\"_parent\"><img src=\"https://colab.research.google.com/assets/colab-badge.svg\" alt=\"Open In Colab\"/></a>"
      ]
    },
    {
      "cell_type": "markdown",
      "source": [
        "# 1) Imports"
      ],
      "metadata": {
        "id": "KXVeKZzCzVUK"
      }
    },
    {
      "cell_type": "code",
      "source": [
        "!pip install -U scikit-learn\n",
        "\n"
      ],
      "metadata": {
        "colab": {
          "base_uri": "https://localhost:8080/",
          "height": 346
        },
        "id": "YTubWB3tHgXB",
        "outputId": "f8f1f827-688d-434e-9fba-ef121b1e98af"
      },
      "execution_count": null,
      "outputs": [
        {
          "output_type": "stream",
          "name": "stdout",
          "text": [
            "Requirement already satisfied: scikit-learn in /usr/local/lib/python3.10/dist-packages (1.2.2)\n",
            "Collecting scikit-learn\n",
            "  Downloading scikit_learn-1.3.0-cp310-cp310-manylinux_2_17_x86_64.manylinux2014_x86_64.whl (10.8 MB)\n",
            "\u001b[2K     \u001b[90m━━━━━━━━━━━━━━━━━━━━━━━━━━━━━━━━━━━━━━━━\u001b[0m \u001b[32m10.8/10.8 MB\u001b[0m \u001b[31m48.2 MB/s\u001b[0m eta \u001b[36m0:00:00\u001b[0m\n",
            "\u001b[?25hRequirement already satisfied: numpy>=1.17.3 in /usr/local/lib/python3.10/dist-packages (from scikit-learn) (1.22.4)\n",
            "Requirement already satisfied: scipy>=1.5.0 in /usr/local/lib/python3.10/dist-packages (from scikit-learn) (1.10.1)\n",
            "Requirement already satisfied: joblib>=1.1.1 in /usr/local/lib/python3.10/dist-packages (from scikit-learn) (1.3.1)\n",
            "Requirement already satisfied: threadpoolctl>=2.0.0 in /usr/local/lib/python3.10/dist-packages (from scikit-learn) (3.1.0)\n",
            "Installing collected packages: scikit-learn\n",
            "  Attempting uninstall: scikit-learn\n",
            "    Found existing installation: scikit-learn 1.2.2\n",
            "    Uninstalling scikit-learn-1.2.2:\n",
            "      Successfully uninstalled scikit-learn-1.2.2\n",
            "Successfully installed scikit-learn-1.3.0\n"
          ]
        },
        {
          "output_type": "display_data",
          "data": {
            "application/vnd.colab-display-data+json": {
              "pip_warning": {
                "packages": [
                  "sklearn"
                ]
              }
            }
          },
          "metadata": {}
        }
      ]
    },
    {
      "cell_type": "code",
      "execution_count": null,
      "metadata": {
        "id": "EvnNzk-fx2MY"
      },
      "outputs": [],
      "source": [
        "import pandas as pd\n",
        "import numpy as np\n",
        "\n",
        "\n",
        "from sklearn.model_selection import train_test_split\n",
        "from sklearn.pipeline import Pipeline\n",
        "from sklearn.impute import SimpleImputer\n",
        "from sklearn.preprocessing import  OneHotEncoder, StandardScaler\n",
        "from sklearn.compose import ColumnTransformer\n",
        "from sklearn.linear_model import Ridge\n",
        "from sklearn.ensemble import RandomForestRegressor, GradientBoostingRegressor\n",
        "from sklearn.model_selection import GridSearchCV\n",
        "from sklearn.metrics import accuracy_score, f1_score, ConfusionMatrixDisplay, RocCurveDisplay\n",
        "import joblib\n",
        "import pickle\n"
      ]
    },
    {
      "cell_type": "code",
      "source": [
        "df = pd.read_csv('/content/get_around_pricing_project.csv')"
      ],
      "metadata": {
        "id": "alAGUsuGywiG"
      },
      "execution_count": null,
      "outputs": []
    },
    {
      "cell_type": "markdown",
      "source": [
        "# 2) EDA"
      ],
      "metadata": {
        "id": "ownvMBF5zZxT"
      }
    },
    {
      "cell_type": "code",
      "source": [
        "df.head(10)"
      ],
      "metadata": {
        "colab": {
          "base_uri": "https://localhost:8080/",
          "height": 444
        },
        "id": "IKE_hjixy9XX",
        "outputId": "45dac072-38d4-4ad3-e7ae-c0c4f146bb7f"
      },
      "execution_count": null,
      "outputs": [
        {
          "output_type": "execute_result",
          "data": {
            "text/plain": [
              "   Unnamed: 0 model_key  mileage  engine_power    fuel paint_color  \\\n",
              "0           0   Citroën   140411           100  diesel       black   \n",
              "1           1   Citroën    13929           317  petrol        grey   \n",
              "2           2   Citroën   183297           120  diesel       white   \n",
              "3           3   Citroën   128035           135  diesel         red   \n",
              "4           4   Citroën    97097           160  diesel      silver   \n",
              "5           5   Citroën   152352           225  petrol       black   \n",
              "6           6   Citroën   205219           145  diesel        grey   \n",
              "7           7   Citroën   115560           105  petrol       white   \n",
              "8           8   Peugeot   123886           125  petrol       black   \n",
              "9           9   Citroën   139541           135  diesel       white   \n",
              "\n",
              "      car_type  private_parking_available  has_gps  has_air_conditioning  \\\n",
              "0  convertible                       True     True                 False   \n",
              "1  convertible                       True     True                 False   \n",
              "2  convertible                      False    False                 False   \n",
              "3  convertible                       True     True                 False   \n",
              "4  convertible                       True     True                 False   \n",
              "5  convertible                       True     True                 False   \n",
              "6  convertible                       True     True                 False   \n",
              "7  convertible                       True     True                 False   \n",
              "8  convertible                       True    False                 False   \n",
              "9  convertible                      False    False                 False   \n",
              "\n",
              "   automatic_car  has_getaround_connect  has_speed_regulator  winter_tires  \\\n",
              "0          False                   True                 True          True   \n",
              "1          False                  False                 True          True   \n",
              "2          False                   True                False          True   \n",
              "3          False                   True                 True          True   \n",
              "4          False                  False                 True          True   \n",
              "5          False                   True                 True          True   \n",
              "6          False                   True                 True          True   \n",
              "7          False                  False                 True          True   \n",
              "8          False                  False                 True          True   \n",
              "9          False                   True                False          True   \n",
              "\n",
              "   rental_price_per_day  \n",
              "0                   106  \n",
              "1                   264  \n",
              "2                   101  \n",
              "3                   158  \n",
              "4                   183  \n",
              "5                   131  \n",
              "6                   111  \n",
              "7                    78  \n",
              "8                    79  \n",
              "9                   132  "
            ],
            "text/html": [
              "\n",
              "\n",
              "  <div id=\"df-b83ae0db-cfb7-416a-a3e0-c0fa984a36e8\">\n",
              "    <div class=\"colab-df-container\">\n",
              "      <div>\n",
              "<style scoped>\n",
              "    .dataframe tbody tr th:only-of-type {\n",
              "        vertical-align: middle;\n",
              "    }\n",
              "\n",
              "    .dataframe tbody tr th {\n",
              "        vertical-align: top;\n",
              "    }\n",
              "\n",
              "    .dataframe thead th {\n",
              "        text-align: right;\n",
              "    }\n",
              "</style>\n",
              "<table border=\"1\" class=\"dataframe\">\n",
              "  <thead>\n",
              "    <tr style=\"text-align: right;\">\n",
              "      <th></th>\n",
              "      <th>Unnamed: 0</th>\n",
              "      <th>model_key</th>\n",
              "      <th>mileage</th>\n",
              "      <th>engine_power</th>\n",
              "      <th>fuel</th>\n",
              "      <th>paint_color</th>\n",
              "      <th>car_type</th>\n",
              "      <th>private_parking_available</th>\n",
              "      <th>has_gps</th>\n",
              "      <th>has_air_conditioning</th>\n",
              "      <th>automatic_car</th>\n",
              "      <th>has_getaround_connect</th>\n",
              "      <th>has_speed_regulator</th>\n",
              "      <th>winter_tires</th>\n",
              "      <th>rental_price_per_day</th>\n",
              "    </tr>\n",
              "  </thead>\n",
              "  <tbody>\n",
              "    <tr>\n",
              "      <th>0</th>\n",
              "      <td>0</td>\n",
              "      <td>Citroën</td>\n",
              "      <td>140411</td>\n",
              "      <td>100</td>\n",
              "      <td>diesel</td>\n",
              "      <td>black</td>\n",
              "      <td>convertible</td>\n",
              "      <td>True</td>\n",
              "      <td>True</td>\n",
              "      <td>False</td>\n",
              "      <td>False</td>\n",
              "      <td>True</td>\n",
              "      <td>True</td>\n",
              "      <td>True</td>\n",
              "      <td>106</td>\n",
              "    </tr>\n",
              "    <tr>\n",
              "      <th>1</th>\n",
              "      <td>1</td>\n",
              "      <td>Citroën</td>\n",
              "      <td>13929</td>\n",
              "      <td>317</td>\n",
              "      <td>petrol</td>\n",
              "      <td>grey</td>\n",
              "      <td>convertible</td>\n",
              "      <td>True</td>\n",
              "      <td>True</td>\n",
              "      <td>False</td>\n",
              "      <td>False</td>\n",
              "      <td>False</td>\n",
              "      <td>True</td>\n",
              "      <td>True</td>\n",
              "      <td>264</td>\n",
              "    </tr>\n",
              "    <tr>\n",
              "      <th>2</th>\n",
              "      <td>2</td>\n",
              "      <td>Citroën</td>\n",
              "      <td>183297</td>\n",
              "      <td>120</td>\n",
              "      <td>diesel</td>\n",
              "      <td>white</td>\n",
              "      <td>convertible</td>\n",
              "      <td>False</td>\n",
              "      <td>False</td>\n",
              "      <td>False</td>\n",
              "      <td>False</td>\n",
              "      <td>True</td>\n",
              "      <td>False</td>\n",
              "      <td>True</td>\n",
              "      <td>101</td>\n",
              "    </tr>\n",
              "    <tr>\n",
              "      <th>3</th>\n",
              "      <td>3</td>\n",
              "      <td>Citroën</td>\n",
              "      <td>128035</td>\n",
              "      <td>135</td>\n",
              "      <td>diesel</td>\n",
              "      <td>red</td>\n",
              "      <td>convertible</td>\n",
              "      <td>True</td>\n",
              "      <td>True</td>\n",
              "      <td>False</td>\n",
              "      <td>False</td>\n",
              "      <td>True</td>\n",
              "      <td>True</td>\n",
              "      <td>True</td>\n",
              "      <td>158</td>\n",
              "    </tr>\n",
              "    <tr>\n",
              "      <th>4</th>\n",
              "      <td>4</td>\n",
              "      <td>Citroën</td>\n",
              "      <td>97097</td>\n",
              "      <td>160</td>\n",
              "      <td>diesel</td>\n",
              "      <td>silver</td>\n",
              "      <td>convertible</td>\n",
              "      <td>True</td>\n",
              "      <td>True</td>\n",
              "      <td>False</td>\n",
              "      <td>False</td>\n",
              "      <td>False</td>\n",
              "      <td>True</td>\n",
              "      <td>True</td>\n",
              "      <td>183</td>\n",
              "    </tr>\n",
              "    <tr>\n",
              "      <th>5</th>\n",
              "      <td>5</td>\n",
              "      <td>Citroën</td>\n",
              "      <td>152352</td>\n",
              "      <td>225</td>\n",
              "      <td>petrol</td>\n",
              "      <td>black</td>\n",
              "      <td>convertible</td>\n",
              "      <td>True</td>\n",
              "      <td>True</td>\n",
              "      <td>False</td>\n",
              "      <td>False</td>\n",
              "      <td>True</td>\n",
              "      <td>True</td>\n",
              "      <td>True</td>\n",
              "      <td>131</td>\n",
              "    </tr>\n",
              "    <tr>\n",
              "      <th>6</th>\n",
              "      <td>6</td>\n",
              "      <td>Citroën</td>\n",
              "      <td>205219</td>\n",
              "      <td>145</td>\n",
              "      <td>diesel</td>\n",
              "      <td>grey</td>\n",
              "      <td>convertible</td>\n",
              "      <td>True</td>\n",
              "      <td>True</td>\n",
              "      <td>False</td>\n",
              "      <td>False</td>\n",
              "      <td>True</td>\n",
              "      <td>True</td>\n",
              "      <td>True</td>\n",
              "      <td>111</td>\n",
              "    </tr>\n",
              "    <tr>\n",
              "      <th>7</th>\n",
              "      <td>7</td>\n",
              "      <td>Citroën</td>\n",
              "      <td>115560</td>\n",
              "      <td>105</td>\n",
              "      <td>petrol</td>\n",
              "      <td>white</td>\n",
              "      <td>convertible</td>\n",
              "      <td>True</td>\n",
              "      <td>True</td>\n",
              "      <td>False</td>\n",
              "      <td>False</td>\n",
              "      <td>False</td>\n",
              "      <td>True</td>\n",
              "      <td>True</td>\n",
              "      <td>78</td>\n",
              "    </tr>\n",
              "    <tr>\n",
              "      <th>8</th>\n",
              "      <td>8</td>\n",
              "      <td>Peugeot</td>\n",
              "      <td>123886</td>\n",
              "      <td>125</td>\n",
              "      <td>petrol</td>\n",
              "      <td>black</td>\n",
              "      <td>convertible</td>\n",
              "      <td>True</td>\n",
              "      <td>False</td>\n",
              "      <td>False</td>\n",
              "      <td>False</td>\n",
              "      <td>False</td>\n",
              "      <td>True</td>\n",
              "      <td>True</td>\n",
              "      <td>79</td>\n",
              "    </tr>\n",
              "    <tr>\n",
              "      <th>9</th>\n",
              "      <td>9</td>\n",
              "      <td>Citroën</td>\n",
              "      <td>139541</td>\n",
              "      <td>135</td>\n",
              "      <td>diesel</td>\n",
              "      <td>white</td>\n",
              "      <td>convertible</td>\n",
              "      <td>False</td>\n",
              "      <td>False</td>\n",
              "      <td>False</td>\n",
              "      <td>False</td>\n",
              "      <td>True</td>\n",
              "      <td>False</td>\n",
              "      <td>True</td>\n",
              "      <td>132</td>\n",
              "    </tr>\n",
              "  </tbody>\n",
              "</table>\n",
              "</div>\n",
              "      <button class=\"colab-df-convert\" onclick=\"convertToInteractive('df-b83ae0db-cfb7-416a-a3e0-c0fa984a36e8')\"\n",
              "              title=\"Convert this dataframe to an interactive table.\"\n",
              "              style=\"display:none;\">\n",
              "\n",
              "  <svg xmlns=\"http://www.w3.org/2000/svg\" height=\"24px\"viewBox=\"0 0 24 24\"\n",
              "       width=\"24px\">\n",
              "    <path d=\"M0 0h24v24H0V0z\" fill=\"none\"/>\n",
              "    <path d=\"M18.56 5.44l.94 2.06.94-2.06 2.06-.94-2.06-.94-.94-2.06-.94 2.06-2.06.94zm-11 1L8.5 8.5l.94-2.06 2.06-.94-2.06-.94L8.5 2.5l-.94 2.06-2.06.94zm10 10l.94 2.06.94-2.06 2.06-.94-2.06-.94-.94-2.06-.94 2.06-2.06.94z\"/><path d=\"M17.41 7.96l-1.37-1.37c-.4-.4-.92-.59-1.43-.59-.52 0-1.04.2-1.43.59L10.3 9.45l-7.72 7.72c-.78.78-.78 2.05 0 2.83L4 21.41c.39.39.9.59 1.41.59.51 0 1.02-.2 1.41-.59l7.78-7.78 2.81-2.81c.8-.78.8-2.07 0-2.86zM5.41 20L4 18.59l7.72-7.72 1.47 1.35L5.41 20z\"/>\n",
              "  </svg>\n",
              "      </button>\n",
              "\n",
              "\n",
              "\n",
              "    <div id=\"df-9bd55ca6-026d-427d-b295-7451ec270be3\">\n",
              "      <button class=\"colab-df-quickchart\" onclick=\"quickchart('df-9bd55ca6-026d-427d-b295-7451ec270be3')\"\n",
              "              title=\"Suggest charts.\"\n",
              "              style=\"display:none;\">\n",
              "\n",
              "<svg xmlns=\"http://www.w3.org/2000/svg\" height=\"24px\"viewBox=\"0 0 24 24\"\n",
              "     width=\"24px\">\n",
              "    <g>\n",
              "        <path d=\"M19 3H5c-1.1 0-2 .9-2 2v14c0 1.1.9 2 2 2h14c1.1 0 2-.9 2-2V5c0-1.1-.9-2-2-2zM9 17H7v-7h2v7zm4 0h-2V7h2v10zm4 0h-2v-4h2v4z\"/>\n",
              "    </g>\n",
              "</svg>\n",
              "      </button>\n",
              "    </div>\n",
              "\n",
              "<style>\n",
              "  .colab-df-quickchart {\n",
              "    background-color: #E8F0FE;\n",
              "    border: none;\n",
              "    border-radius: 50%;\n",
              "    cursor: pointer;\n",
              "    display: none;\n",
              "    fill: #1967D2;\n",
              "    height: 32px;\n",
              "    padding: 0 0 0 0;\n",
              "    width: 32px;\n",
              "  }\n",
              "\n",
              "  .colab-df-quickchart:hover {\n",
              "    background-color: #E2EBFA;\n",
              "    box-shadow: 0px 1px 2px rgba(60, 64, 67, 0.3), 0px 1px 3px 1px rgba(60, 64, 67, 0.15);\n",
              "    fill: #174EA6;\n",
              "  }\n",
              "\n",
              "  [theme=dark] .colab-df-quickchart {\n",
              "    background-color: #3B4455;\n",
              "    fill: #D2E3FC;\n",
              "  }\n",
              "\n",
              "  [theme=dark] .colab-df-quickchart:hover {\n",
              "    background-color: #434B5C;\n",
              "    box-shadow: 0px 1px 3px 1px rgba(0, 0, 0, 0.15);\n",
              "    filter: drop-shadow(0px 1px 2px rgba(0, 0, 0, 0.3));\n",
              "    fill: #FFFFFF;\n",
              "  }\n",
              "</style>\n",
              "\n",
              "    <script>\n",
              "      async function quickchart(key) {\n",
              "        const containerElement = document.querySelector('#' + key);\n",
              "        const charts = await google.colab.kernel.invokeFunction(\n",
              "            'suggestCharts', [key], {});\n",
              "      }\n",
              "    </script>\n",
              "\n",
              "      <script>\n",
              "\n",
              "function displayQuickchartButton(domScope) {\n",
              "  let quickchartButtonEl =\n",
              "    domScope.querySelector('#df-9bd55ca6-026d-427d-b295-7451ec270be3 button.colab-df-quickchart');\n",
              "  quickchartButtonEl.style.display =\n",
              "    google.colab.kernel.accessAllowed ? 'block' : 'none';\n",
              "}\n",
              "\n",
              "        displayQuickchartButton(document);\n",
              "      </script>\n",
              "      <style>\n",
              "    .colab-df-container {\n",
              "      display:flex;\n",
              "      flex-wrap:wrap;\n",
              "      gap: 12px;\n",
              "    }\n",
              "\n",
              "    .colab-df-convert {\n",
              "      background-color: #E8F0FE;\n",
              "      border: none;\n",
              "      border-radius: 50%;\n",
              "      cursor: pointer;\n",
              "      display: none;\n",
              "      fill: #1967D2;\n",
              "      height: 32px;\n",
              "      padding: 0 0 0 0;\n",
              "      width: 32px;\n",
              "    }\n",
              "\n",
              "    .colab-df-convert:hover {\n",
              "      background-color: #E2EBFA;\n",
              "      box-shadow: 0px 1px 2px rgba(60, 64, 67, 0.3), 0px 1px 3px 1px rgba(60, 64, 67, 0.15);\n",
              "      fill: #174EA6;\n",
              "    }\n",
              "\n",
              "    [theme=dark] .colab-df-convert {\n",
              "      background-color: #3B4455;\n",
              "      fill: #D2E3FC;\n",
              "    }\n",
              "\n",
              "    [theme=dark] .colab-df-convert:hover {\n",
              "      background-color: #434B5C;\n",
              "      box-shadow: 0px 1px 3px 1px rgba(0, 0, 0, 0.15);\n",
              "      filter: drop-shadow(0px 1px 2px rgba(0, 0, 0, 0.3));\n",
              "      fill: #FFFFFF;\n",
              "    }\n",
              "  </style>\n",
              "\n",
              "      <script>\n",
              "        const buttonEl =\n",
              "          document.querySelector('#df-b83ae0db-cfb7-416a-a3e0-c0fa984a36e8 button.colab-df-convert');\n",
              "        buttonEl.style.display =\n",
              "          google.colab.kernel.accessAllowed ? 'block' : 'none';\n",
              "\n",
              "        async function convertToInteractive(key) {\n",
              "          const element = document.querySelector('#df-b83ae0db-cfb7-416a-a3e0-c0fa984a36e8');\n",
              "          const dataTable =\n",
              "            await google.colab.kernel.invokeFunction('convertToInteractive',\n",
              "                                                     [key], {});\n",
              "          if (!dataTable) return;\n",
              "\n",
              "          const docLinkHtml = 'Like what you see? Visit the ' +\n",
              "            '<a target=\"_blank\" href=https://colab.research.google.com/notebooks/data_table.ipynb>data table notebook</a>'\n",
              "            + ' to learn more about interactive tables.';\n",
              "          element.innerHTML = '';\n",
              "          dataTable['output_type'] = 'display_data';\n",
              "          await google.colab.output.renderOutput(dataTable, element);\n",
              "          const docLink = document.createElement('div');\n",
              "          docLink.innerHTML = docLinkHtml;\n",
              "          element.appendChild(docLink);\n",
              "        }\n",
              "      </script>\n",
              "    </div>\n",
              "  </div>\n"
            ]
          },
          "metadata": {},
          "execution_count": 6
        }
      ]
    },
    {
      "cell_type": "code",
      "source": [
        "j = df.loc[8]\n",
        "print(j)"
      ],
      "metadata": {
        "colab": {
          "base_uri": "https://localhost:8080/"
        },
        "id": "JIZBapA3ToZo",
        "outputId": "e2d9f7db-ea97-4f5e-be0a-c08b66652f0f"
      },
      "execution_count": null,
      "outputs": [
        {
          "output_type": "stream",
          "name": "stdout",
          "text": [
            "Unnamed: 0                             8\n",
            "model_key                        Peugeot\n",
            "mileage                           123886\n",
            "engine_power                         125\n",
            "fuel                              petrol\n",
            "paint_color                        black\n",
            "car_type                     convertible\n",
            "private_parking_available           True\n",
            "has_gps                            False\n",
            "has_air_conditioning               False\n",
            "automatic_car                      False\n",
            "has_getaround_connect              False\n",
            "has_speed_regulator                 True\n",
            "winter_tires                        True\n",
            "rental_price_per_day                  79\n",
            "Name: 8, dtype: object\n"
          ]
        }
      ]
    },
    {
      "cell_type": "code",
      "source": [
        "df.columns"
      ],
      "metadata": {
        "colab": {
          "base_uri": "https://localhost:8080/"
        },
        "id": "-w56sQBTzNDf",
        "outputId": "9d99fb85-ec62-41ec-d804-7bd54308336b"
      },
      "execution_count": null,
      "outputs": [
        {
          "output_type": "execute_result",
          "data": {
            "text/plain": [
              "Index(['Unnamed: 0', 'model_key', 'mileage', 'engine_power', 'fuel',\n",
              "       'paint_color', 'car_type', 'private_parking_available', 'has_gps',\n",
              "       'has_air_conditioning', 'automatic_car', 'has_getaround_connect',\n",
              "       'has_speed_regulator', 'winter_tires', 'rental_price_per_day'],\n",
              "      dtype='object')"
            ]
          },
          "metadata": {},
          "execution_count": 8
        }
      ]
    },
    {
      "cell_type": "code",
      "source": [
        "df.describe(include='all')"
      ],
      "metadata": {
        "colab": {
          "base_uri": "https://localhost:8080/",
          "height": 458
        },
        "id": "h3xuATQ7zZDf",
        "outputId": "91e8e596-548d-4faf-f888-c0727d78b06b"
      },
      "execution_count": null,
      "outputs": [
        {
          "output_type": "execute_result",
          "data": {
            "text/plain": [
              "         Unnamed: 0 model_key       mileage  engine_power    fuel paint_color  \\\n",
              "count   4843.000000      4843  4.843000e+03    4843.00000    4843        4843   \n",
              "unique          NaN        28           NaN           NaN       4          10   \n",
              "top             NaN   Citroën           NaN           NaN  diesel       black   \n",
              "freq            NaN       969           NaN           NaN    4641        1633   \n",
              "mean    2421.000000       NaN  1.409628e+05     128.98823     NaN         NaN   \n",
              "std     1398.198007       NaN  6.019674e+04      38.99336     NaN         NaN   \n",
              "min        0.000000       NaN -6.400000e+01       0.00000     NaN         NaN   \n",
              "25%     1210.500000       NaN  1.029135e+05     100.00000     NaN         NaN   \n",
              "50%     2421.000000       NaN  1.410800e+05     120.00000     NaN         NaN   \n",
              "75%     3631.500000       NaN  1.751955e+05     135.00000     NaN         NaN   \n",
              "max     4842.000000       NaN  1.000376e+06     423.00000     NaN         NaN   \n",
              "\n",
              "       car_type private_parking_available has_gps has_air_conditioning  \\\n",
              "count      4843                      4843    4843                 4843   \n",
              "unique        8                         2       2                    2   \n",
              "top      estate                      True    True                False   \n",
              "freq       1606                      2662    3839                 3865   \n",
              "mean        NaN                       NaN     NaN                  NaN   \n",
              "std         NaN                       NaN     NaN                  NaN   \n",
              "min         NaN                       NaN     NaN                  NaN   \n",
              "25%         NaN                       NaN     NaN                  NaN   \n",
              "50%         NaN                       NaN     NaN                  NaN   \n",
              "75%         NaN                       NaN     NaN                  NaN   \n",
              "max         NaN                       NaN     NaN                  NaN   \n",
              "\n",
              "       automatic_car has_getaround_connect has_speed_regulator winter_tires  \\\n",
              "count           4843                  4843                4843         4843   \n",
              "unique             2                     2                   2            2   \n",
              "top            False                 False               False         True   \n",
              "freq            3881                  2613                3674         4514   \n",
              "mean             NaN                   NaN                 NaN          NaN   \n",
              "std              NaN                   NaN                 NaN          NaN   \n",
              "min              NaN                   NaN                 NaN          NaN   \n",
              "25%              NaN                   NaN                 NaN          NaN   \n",
              "50%              NaN                   NaN                 NaN          NaN   \n",
              "75%              NaN                   NaN                 NaN          NaN   \n",
              "max              NaN                   NaN                 NaN          NaN   \n",
              "\n",
              "        rental_price_per_day  \n",
              "count            4843.000000  \n",
              "unique                   NaN  \n",
              "top                      NaN  \n",
              "freq                     NaN  \n",
              "mean              121.214536  \n",
              "std                33.568268  \n",
              "min                10.000000  \n",
              "25%               104.000000  \n",
              "50%               119.000000  \n",
              "75%               136.000000  \n",
              "max               422.000000  "
            ],
            "text/html": [
              "\n",
              "\n",
              "  <div id=\"df-23fd47b0-584f-4c9b-8ad8-19e3b96e8ac4\">\n",
              "    <div class=\"colab-df-container\">\n",
              "      <div>\n",
              "<style scoped>\n",
              "    .dataframe tbody tr th:only-of-type {\n",
              "        vertical-align: middle;\n",
              "    }\n",
              "\n",
              "    .dataframe tbody tr th {\n",
              "        vertical-align: top;\n",
              "    }\n",
              "\n",
              "    .dataframe thead th {\n",
              "        text-align: right;\n",
              "    }\n",
              "</style>\n",
              "<table border=\"1\" class=\"dataframe\">\n",
              "  <thead>\n",
              "    <tr style=\"text-align: right;\">\n",
              "      <th></th>\n",
              "      <th>Unnamed: 0</th>\n",
              "      <th>model_key</th>\n",
              "      <th>mileage</th>\n",
              "      <th>engine_power</th>\n",
              "      <th>fuel</th>\n",
              "      <th>paint_color</th>\n",
              "      <th>car_type</th>\n",
              "      <th>private_parking_available</th>\n",
              "      <th>has_gps</th>\n",
              "      <th>has_air_conditioning</th>\n",
              "      <th>automatic_car</th>\n",
              "      <th>has_getaround_connect</th>\n",
              "      <th>has_speed_regulator</th>\n",
              "      <th>winter_tires</th>\n",
              "      <th>rental_price_per_day</th>\n",
              "    </tr>\n",
              "  </thead>\n",
              "  <tbody>\n",
              "    <tr>\n",
              "      <th>count</th>\n",
              "      <td>4843.000000</td>\n",
              "      <td>4843</td>\n",
              "      <td>4.843000e+03</td>\n",
              "      <td>4843.00000</td>\n",
              "      <td>4843</td>\n",
              "      <td>4843</td>\n",
              "      <td>4843</td>\n",
              "      <td>4843</td>\n",
              "      <td>4843</td>\n",
              "      <td>4843</td>\n",
              "      <td>4843</td>\n",
              "      <td>4843</td>\n",
              "      <td>4843</td>\n",
              "      <td>4843</td>\n",
              "      <td>4843.000000</td>\n",
              "    </tr>\n",
              "    <tr>\n",
              "      <th>unique</th>\n",
              "      <td>NaN</td>\n",
              "      <td>28</td>\n",
              "      <td>NaN</td>\n",
              "      <td>NaN</td>\n",
              "      <td>4</td>\n",
              "      <td>10</td>\n",
              "      <td>8</td>\n",
              "      <td>2</td>\n",
              "      <td>2</td>\n",
              "      <td>2</td>\n",
              "      <td>2</td>\n",
              "      <td>2</td>\n",
              "      <td>2</td>\n",
              "      <td>2</td>\n",
              "      <td>NaN</td>\n",
              "    </tr>\n",
              "    <tr>\n",
              "      <th>top</th>\n",
              "      <td>NaN</td>\n",
              "      <td>Citroën</td>\n",
              "      <td>NaN</td>\n",
              "      <td>NaN</td>\n",
              "      <td>diesel</td>\n",
              "      <td>black</td>\n",
              "      <td>estate</td>\n",
              "      <td>True</td>\n",
              "      <td>True</td>\n",
              "      <td>False</td>\n",
              "      <td>False</td>\n",
              "      <td>False</td>\n",
              "      <td>False</td>\n",
              "      <td>True</td>\n",
              "      <td>NaN</td>\n",
              "    </tr>\n",
              "    <tr>\n",
              "      <th>freq</th>\n",
              "      <td>NaN</td>\n",
              "      <td>969</td>\n",
              "      <td>NaN</td>\n",
              "      <td>NaN</td>\n",
              "      <td>4641</td>\n",
              "      <td>1633</td>\n",
              "      <td>1606</td>\n",
              "      <td>2662</td>\n",
              "      <td>3839</td>\n",
              "      <td>3865</td>\n",
              "      <td>3881</td>\n",
              "      <td>2613</td>\n",
              "      <td>3674</td>\n",
              "      <td>4514</td>\n",
              "      <td>NaN</td>\n",
              "    </tr>\n",
              "    <tr>\n",
              "      <th>mean</th>\n",
              "      <td>2421.000000</td>\n",
              "      <td>NaN</td>\n",
              "      <td>1.409628e+05</td>\n",
              "      <td>128.98823</td>\n",
              "      <td>NaN</td>\n",
              "      <td>NaN</td>\n",
              "      <td>NaN</td>\n",
              "      <td>NaN</td>\n",
              "      <td>NaN</td>\n",
              "      <td>NaN</td>\n",
              "      <td>NaN</td>\n",
              "      <td>NaN</td>\n",
              "      <td>NaN</td>\n",
              "      <td>NaN</td>\n",
              "      <td>121.214536</td>\n",
              "    </tr>\n",
              "    <tr>\n",
              "      <th>std</th>\n",
              "      <td>1398.198007</td>\n",
              "      <td>NaN</td>\n",
              "      <td>6.019674e+04</td>\n",
              "      <td>38.99336</td>\n",
              "      <td>NaN</td>\n",
              "      <td>NaN</td>\n",
              "      <td>NaN</td>\n",
              "      <td>NaN</td>\n",
              "      <td>NaN</td>\n",
              "      <td>NaN</td>\n",
              "      <td>NaN</td>\n",
              "      <td>NaN</td>\n",
              "      <td>NaN</td>\n",
              "      <td>NaN</td>\n",
              "      <td>33.568268</td>\n",
              "    </tr>\n",
              "    <tr>\n",
              "      <th>min</th>\n",
              "      <td>0.000000</td>\n",
              "      <td>NaN</td>\n",
              "      <td>-6.400000e+01</td>\n",
              "      <td>0.00000</td>\n",
              "      <td>NaN</td>\n",
              "      <td>NaN</td>\n",
              "      <td>NaN</td>\n",
              "      <td>NaN</td>\n",
              "      <td>NaN</td>\n",
              "      <td>NaN</td>\n",
              "      <td>NaN</td>\n",
              "      <td>NaN</td>\n",
              "      <td>NaN</td>\n",
              "      <td>NaN</td>\n",
              "      <td>10.000000</td>\n",
              "    </tr>\n",
              "    <tr>\n",
              "      <th>25%</th>\n",
              "      <td>1210.500000</td>\n",
              "      <td>NaN</td>\n",
              "      <td>1.029135e+05</td>\n",
              "      <td>100.00000</td>\n",
              "      <td>NaN</td>\n",
              "      <td>NaN</td>\n",
              "      <td>NaN</td>\n",
              "      <td>NaN</td>\n",
              "      <td>NaN</td>\n",
              "      <td>NaN</td>\n",
              "      <td>NaN</td>\n",
              "      <td>NaN</td>\n",
              "      <td>NaN</td>\n",
              "      <td>NaN</td>\n",
              "      <td>104.000000</td>\n",
              "    </tr>\n",
              "    <tr>\n",
              "      <th>50%</th>\n",
              "      <td>2421.000000</td>\n",
              "      <td>NaN</td>\n",
              "      <td>1.410800e+05</td>\n",
              "      <td>120.00000</td>\n",
              "      <td>NaN</td>\n",
              "      <td>NaN</td>\n",
              "      <td>NaN</td>\n",
              "      <td>NaN</td>\n",
              "      <td>NaN</td>\n",
              "      <td>NaN</td>\n",
              "      <td>NaN</td>\n",
              "      <td>NaN</td>\n",
              "      <td>NaN</td>\n",
              "      <td>NaN</td>\n",
              "      <td>119.000000</td>\n",
              "    </tr>\n",
              "    <tr>\n",
              "      <th>75%</th>\n",
              "      <td>3631.500000</td>\n",
              "      <td>NaN</td>\n",
              "      <td>1.751955e+05</td>\n",
              "      <td>135.00000</td>\n",
              "      <td>NaN</td>\n",
              "      <td>NaN</td>\n",
              "      <td>NaN</td>\n",
              "      <td>NaN</td>\n",
              "      <td>NaN</td>\n",
              "      <td>NaN</td>\n",
              "      <td>NaN</td>\n",
              "      <td>NaN</td>\n",
              "      <td>NaN</td>\n",
              "      <td>NaN</td>\n",
              "      <td>136.000000</td>\n",
              "    </tr>\n",
              "    <tr>\n",
              "      <th>max</th>\n",
              "      <td>4842.000000</td>\n",
              "      <td>NaN</td>\n",
              "      <td>1.000376e+06</td>\n",
              "      <td>423.00000</td>\n",
              "      <td>NaN</td>\n",
              "      <td>NaN</td>\n",
              "      <td>NaN</td>\n",
              "      <td>NaN</td>\n",
              "      <td>NaN</td>\n",
              "      <td>NaN</td>\n",
              "      <td>NaN</td>\n",
              "      <td>NaN</td>\n",
              "      <td>NaN</td>\n",
              "      <td>NaN</td>\n",
              "      <td>422.000000</td>\n",
              "    </tr>\n",
              "  </tbody>\n",
              "</table>\n",
              "</div>\n",
              "      <button class=\"colab-df-convert\" onclick=\"convertToInteractive('df-23fd47b0-584f-4c9b-8ad8-19e3b96e8ac4')\"\n",
              "              title=\"Convert this dataframe to an interactive table.\"\n",
              "              style=\"display:none;\">\n",
              "\n",
              "  <svg xmlns=\"http://www.w3.org/2000/svg\" height=\"24px\"viewBox=\"0 0 24 24\"\n",
              "       width=\"24px\">\n",
              "    <path d=\"M0 0h24v24H0V0z\" fill=\"none\"/>\n",
              "    <path d=\"M18.56 5.44l.94 2.06.94-2.06 2.06-.94-2.06-.94-.94-2.06-.94 2.06-2.06.94zm-11 1L8.5 8.5l.94-2.06 2.06-.94-2.06-.94L8.5 2.5l-.94 2.06-2.06.94zm10 10l.94 2.06.94-2.06 2.06-.94-2.06-.94-.94-2.06-.94 2.06-2.06.94z\"/><path d=\"M17.41 7.96l-1.37-1.37c-.4-.4-.92-.59-1.43-.59-.52 0-1.04.2-1.43.59L10.3 9.45l-7.72 7.72c-.78.78-.78 2.05 0 2.83L4 21.41c.39.39.9.59 1.41.59.51 0 1.02-.2 1.41-.59l7.78-7.78 2.81-2.81c.8-.78.8-2.07 0-2.86zM5.41 20L4 18.59l7.72-7.72 1.47 1.35L5.41 20z\"/>\n",
              "  </svg>\n",
              "      </button>\n",
              "\n",
              "\n",
              "\n",
              "    <div id=\"df-9cea9f92-50db-4f36-8db0-1e941b051a62\">\n",
              "      <button class=\"colab-df-quickchart\" onclick=\"quickchart('df-9cea9f92-50db-4f36-8db0-1e941b051a62')\"\n",
              "              title=\"Suggest charts.\"\n",
              "              style=\"display:none;\">\n",
              "\n",
              "<svg xmlns=\"http://www.w3.org/2000/svg\" height=\"24px\"viewBox=\"0 0 24 24\"\n",
              "     width=\"24px\">\n",
              "    <g>\n",
              "        <path d=\"M19 3H5c-1.1 0-2 .9-2 2v14c0 1.1.9 2 2 2h14c1.1 0 2-.9 2-2V5c0-1.1-.9-2-2-2zM9 17H7v-7h2v7zm4 0h-2V7h2v10zm4 0h-2v-4h2v4z\"/>\n",
              "    </g>\n",
              "</svg>\n",
              "      </button>\n",
              "    </div>\n",
              "\n",
              "<style>\n",
              "  .colab-df-quickchart {\n",
              "    background-color: #E8F0FE;\n",
              "    border: none;\n",
              "    border-radius: 50%;\n",
              "    cursor: pointer;\n",
              "    display: none;\n",
              "    fill: #1967D2;\n",
              "    height: 32px;\n",
              "    padding: 0 0 0 0;\n",
              "    width: 32px;\n",
              "  }\n",
              "\n",
              "  .colab-df-quickchart:hover {\n",
              "    background-color: #E2EBFA;\n",
              "    box-shadow: 0px 1px 2px rgba(60, 64, 67, 0.3), 0px 1px 3px 1px rgba(60, 64, 67, 0.15);\n",
              "    fill: #174EA6;\n",
              "  }\n",
              "\n",
              "  [theme=dark] .colab-df-quickchart {\n",
              "    background-color: #3B4455;\n",
              "    fill: #D2E3FC;\n",
              "  }\n",
              "\n",
              "  [theme=dark] .colab-df-quickchart:hover {\n",
              "    background-color: #434B5C;\n",
              "    box-shadow: 0px 1px 3px 1px rgba(0, 0, 0, 0.15);\n",
              "    filter: drop-shadow(0px 1px 2px rgba(0, 0, 0, 0.3));\n",
              "    fill: #FFFFFF;\n",
              "  }\n",
              "</style>\n",
              "\n",
              "    <script>\n",
              "      async function quickchart(key) {\n",
              "        const containerElement = document.querySelector('#' + key);\n",
              "        const charts = await google.colab.kernel.invokeFunction(\n",
              "            'suggestCharts', [key], {});\n",
              "      }\n",
              "    </script>\n",
              "\n",
              "      <script>\n",
              "\n",
              "function displayQuickchartButton(domScope) {\n",
              "  let quickchartButtonEl =\n",
              "    domScope.querySelector('#df-9cea9f92-50db-4f36-8db0-1e941b051a62 button.colab-df-quickchart');\n",
              "  quickchartButtonEl.style.display =\n",
              "    google.colab.kernel.accessAllowed ? 'block' : 'none';\n",
              "}\n",
              "\n",
              "        displayQuickchartButton(document);\n",
              "      </script>\n",
              "      <style>\n",
              "    .colab-df-container {\n",
              "      display:flex;\n",
              "      flex-wrap:wrap;\n",
              "      gap: 12px;\n",
              "    }\n",
              "\n",
              "    .colab-df-convert {\n",
              "      background-color: #E8F0FE;\n",
              "      border: none;\n",
              "      border-radius: 50%;\n",
              "      cursor: pointer;\n",
              "      display: none;\n",
              "      fill: #1967D2;\n",
              "      height: 32px;\n",
              "      padding: 0 0 0 0;\n",
              "      width: 32px;\n",
              "    }\n",
              "\n",
              "    .colab-df-convert:hover {\n",
              "      background-color: #E2EBFA;\n",
              "      box-shadow: 0px 1px 2px rgba(60, 64, 67, 0.3), 0px 1px 3px 1px rgba(60, 64, 67, 0.15);\n",
              "      fill: #174EA6;\n",
              "    }\n",
              "\n",
              "    [theme=dark] .colab-df-convert {\n",
              "      background-color: #3B4455;\n",
              "      fill: #D2E3FC;\n",
              "    }\n",
              "\n",
              "    [theme=dark] .colab-df-convert:hover {\n",
              "      background-color: #434B5C;\n",
              "      box-shadow: 0px 1px 3px 1px rgba(0, 0, 0, 0.15);\n",
              "      filter: drop-shadow(0px 1px 2px rgba(0, 0, 0, 0.3));\n",
              "      fill: #FFFFFF;\n",
              "    }\n",
              "  </style>\n",
              "\n",
              "      <script>\n",
              "        const buttonEl =\n",
              "          document.querySelector('#df-23fd47b0-584f-4c9b-8ad8-19e3b96e8ac4 button.colab-df-convert');\n",
              "        buttonEl.style.display =\n",
              "          google.colab.kernel.accessAllowed ? 'block' : 'none';\n",
              "\n",
              "        async function convertToInteractive(key) {\n",
              "          const element = document.querySelector('#df-23fd47b0-584f-4c9b-8ad8-19e3b96e8ac4');\n",
              "          const dataTable =\n",
              "            await google.colab.kernel.invokeFunction('convertToInteractive',\n",
              "                                                     [key], {});\n",
              "          if (!dataTable) return;\n",
              "\n",
              "          const docLinkHtml = 'Like what you see? Visit the ' +\n",
              "            '<a target=\"_blank\" href=https://colab.research.google.com/notebooks/data_table.ipynb>data table notebook</a>'\n",
              "            + ' to learn more about interactive tables.';\n",
              "          element.innerHTML = '';\n",
              "          dataTable['output_type'] = 'display_data';\n",
              "          await google.colab.output.renderOutput(dataTable, element);\n",
              "          const docLink = document.createElement('div');\n",
              "          docLink.innerHTML = docLinkHtml;\n",
              "          element.appendChild(docLink);\n",
              "        }\n",
              "      </script>\n",
              "    </div>\n",
              "  </div>\n"
            ]
          },
          "metadata": {},
          "execution_count": 9
        }
      ]
    },
    {
      "cell_type": "code",
      "source": [
        "df.isna().sum()"
      ],
      "metadata": {
        "colab": {
          "base_uri": "https://localhost:8080/"
        },
        "id": "bvFDPe5Kzj5W",
        "outputId": "5b096cf4-e061-439d-8730-e24e1f19fa75"
      },
      "execution_count": null,
      "outputs": [
        {
          "output_type": "execute_result",
          "data": {
            "text/plain": [
              "Unnamed: 0                   0\n",
              "model_key                    0\n",
              "mileage                      0\n",
              "engine_power                 0\n",
              "fuel                         0\n",
              "paint_color                  0\n",
              "car_type                     0\n",
              "private_parking_available    0\n",
              "has_gps                      0\n",
              "has_air_conditioning         0\n",
              "automatic_car                0\n",
              "has_getaround_connect        0\n",
              "has_speed_regulator          0\n",
              "winter_tires                 0\n",
              "rental_price_per_day         0\n",
              "dtype: int64"
            ]
          },
          "metadata": {},
          "execution_count": 170
        }
      ]
    },
    {
      "cell_type": "code",
      "source": [
        "df.dtypes"
      ],
      "metadata": {
        "colab": {
          "base_uri": "https://localhost:8080/"
        },
        "id": "dSKJHSjRzj7h",
        "outputId": "0090aeb5-827d-45b0-d87e-5979b33d6536"
      },
      "execution_count": null,
      "outputs": [
        {
          "output_type": "execute_result",
          "data": {
            "text/plain": [
              "Unnamed: 0                    int64\n",
              "model_key                    object\n",
              "mileage                       int64\n",
              "engine_power                  int64\n",
              "fuel                         object\n",
              "paint_color                  object\n",
              "car_type                     object\n",
              "private_parking_available      bool\n",
              "has_gps                        bool\n",
              "has_air_conditioning           bool\n",
              "automatic_car                  bool\n",
              "has_getaround_connect          bool\n",
              "has_speed_regulator            bool\n",
              "winter_tires                   bool\n",
              "rental_price_per_day          int64\n",
              "dtype: object"
            ]
          },
          "metadata": {},
          "execution_count": 171
        }
      ]
    },
    {
      "cell_type": "markdown",
      "source": [
        "# 3) Preprocessing"
      ],
      "metadata": {
        "id": "tejEAmIDzeFi"
      }
    },
    {
      "cell_type": "markdown",
      "source": [
        "## 3.a) features and labels"
      ],
      "metadata": {
        "id": "KnAMS5ElzsbT"
      }
    },
    {
      "cell_type": "code",
      "source": [
        "for col in df.select_dtypes('bool'):\n",
        "    df[col] = df[col].apply(lambda x: 1 if x else 0)"
      ],
      "metadata": {
        "id": "-Z1K0pSA4GOc"
      },
      "execution_count": null,
      "outputs": []
    },
    {
      "cell_type": "code",
      "source": [
        "df.head(3)"
      ],
      "metadata": {
        "colab": {
          "base_uri": "https://localhost:8080/",
          "height": 225
        },
        "id": "UXGNcgGc4W10",
        "outputId": "d0965457-455b-408b-9fd7-b1ceeddf0105"
      },
      "execution_count": null,
      "outputs": [
        {
          "output_type": "execute_result",
          "data": {
            "text/plain": [
              "   Unnamed: 0 model_key  mileage  engine_power    fuel paint_color  \\\n",
              "0           0   Citroën   140411           100  diesel       black   \n",
              "1           1   Citroën    13929           317  petrol        grey   \n",
              "2           2   Citroën   183297           120  diesel       white   \n",
              "\n",
              "      car_type  private_parking_available  has_gps  has_air_conditioning  \\\n",
              "0  convertible                          1        1                     0   \n",
              "1  convertible                          1        1                     0   \n",
              "2  convertible                          0        0                     0   \n",
              "\n",
              "   automatic_car  has_getaround_connect  has_speed_regulator  winter_tires  \\\n",
              "0              0                      1                    1             1   \n",
              "1              0                      0                    1             1   \n",
              "2              0                      1                    0             1   \n",
              "\n",
              "   rental_price_per_day  \n",
              "0                   106  \n",
              "1                   264  \n",
              "2                   101  "
            ],
            "text/html": [
              "\n",
              "\n",
              "  <div id=\"df-79d39d94-26ae-4732-8f2c-93536f93b245\">\n",
              "    <div class=\"colab-df-container\">\n",
              "      <div>\n",
              "<style scoped>\n",
              "    .dataframe tbody tr th:only-of-type {\n",
              "        vertical-align: middle;\n",
              "    }\n",
              "\n",
              "    .dataframe tbody tr th {\n",
              "        vertical-align: top;\n",
              "    }\n",
              "\n",
              "    .dataframe thead th {\n",
              "        text-align: right;\n",
              "    }\n",
              "</style>\n",
              "<table border=\"1\" class=\"dataframe\">\n",
              "  <thead>\n",
              "    <tr style=\"text-align: right;\">\n",
              "      <th></th>\n",
              "      <th>Unnamed: 0</th>\n",
              "      <th>model_key</th>\n",
              "      <th>mileage</th>\n",
              "      <th>engine_power</th>\n",
              "      <th>fuel</th>\n",
              "      <th>paint_color</th>\n",
              "      <th>car_type</th>\n",
              "      <th>private_parking_available</th>\n",
              "      <th>has_gps</th>\n",
              "      <th>has_air_conditioning</th>\n",
              "      <th>automatic_car</th>\n",
              "      <th>has_getaround_connect</th>\n",
              "      <th>has_speed_regulator</th>\n",
              "      <th>winter_tires</th>\n",
              "      <th>rental_price_per_day</th>\n",
              "    </tr>\n",
              "  </thead>\n",
              "  <tbody>\n",
              "    <tr>\n",
              "      <th>0</th>\n",
              "      <td>0</td>\n",
              "      <td>Citroën</td>\n",
              "      <td>140411</td>\n",
              "      <td>100</td>\n",
              "      <td>diesel</td>\n",
              "      <td>black</td>\n",
              "      <td>convertible</td>\n",
              "      <td>1</td>\n",
              "      <td>1</td>\n",
              "      <td>0</td>\n",
              "      <td>0</td>\n",
              "      <td>1</td>\n",
              "      <td>1</td>\n",
              "      <td>1</td>\n",
              "      <td>106</td>\n",
              "    </tr>\n",
              "    <tr>\n",
              "      <th>1</th>\n",
              "      <td>1</td>\n",
              "      <td>Citroën</td>\n",
              "      <td>13929</td>\n",
              "      <td>317</td>\n",
              "      <td>petrol</td>\n",
              "      <td>grey</td>\n",
              "      <td>convertible</td>\n",
              "      <td>1</td>\n",
              "      <td>1</td>\n",
              "      <td>0</td>\n",
              "      <td>0</td>\n",
              "      <td>0</td>\n",
              "      <td>1</td>\n",
              "      <td>1</td>\n",
              "      <td>264</td>\n",
              "    </tr>\n",
              "    <tr>\n",
              "      <th>2</th>\n",
              "      <td>2</td>\n",
              "      <td>Citroën</td>\n",
              "      <td>183297</td>\n",
              "      <td>120</td>\n",
              "      <td>diesel</td>\n",
              "      <td>white</td>\n",
              "      <td>convertible</td>\n",
              "      <td>0</td>\n",
              "      <td>0</td>\n",
              "      <td>0</td>\n",
              "      <td>0</td>\n",
              "      <td>1</td>\n",
              "      <td>0</td>\n",
              "      <td>1</td>\n",
              "      <td>101</td>\n",
              "    </tr>\n",
              "  </tbody>\n",
              "</table>\n",
              "</div>\n",
              "      <button class=\"colab-df-convert\" onclick=\"convertToInteractive('df-79d39d94-26ae-4732-8f2c-93536f93b245')\"\n",
              "              title=\"Convert this dataframe to an interactive table.\"\n",
              "              style=\"display:none;\">\n",
              "\n",
              "  <svg xmlns=\"http://www.w3.org/2000/svg\" height=\"24px\"viewBox=\"0 0 24 24\"\n",
              "       width=\"24px\">\n",
              "    <path d=\"M0 0h24v24H0V0z\" fill=\"none\"/>\n",
              "    <path d=\"M18.56 5.44l.94 2.06.94-2.06 2.06-.94-2.06-.94-.94-2.06-.94 2.06-2.06.94zm-11 1L8.5 8.5l.94-2.06 2.06-.94-2.06-.94L8.5 2.5l-.94 2.06-2.06.94zm10 10l.94 2.06.94-2.06 2.06-.94-2.06-.94-.94-2.06-.94 2.06-2.06.94z\"/><path d=\"M17.41 7.96l-1.37-1.37c-.4-.4-.92-.59-1.43-.59-.52 0-1.04.2-1.43.59L10.3 9.45l-7.72 7.72c-.78.78-.78 2.05 0 2.83L4 21.41c.39.39.9.59 1.41.59.51 0 1.02-.2 1.41-.59l7.78-7.78 2.81-2.81c.8-.78.8-2.07 0-2.86zM5.41 20L4 18.59l7.72-7.72 1.47 1.35L5.41 20z\"/>\n",
              "  </svg>\n",
              "      </button>\n",
              "\n",
              "\n",
              "\n",
              "    <div id=\"df-83ebb187-6a96-4d69-bde5-c0eb06ef786c\">\n",
              "      <button class=\"colab-df-quickchart\" onclick=\"quickchart('df-83ebb187-6a96-4d69-bde5-c0eb06ef786c')\"\n",
              "              title=\"Suggest charts.\"\n",
              "              style=\"display:none;\">\n",
              "\n",
              "<svg xmlns=\"http://www.w3.org/2000/svg\" height=\"24px\"viewBox=\"0 0 24 24\"\n",
              "     width=\"24px\">\n",
              "    <g>\n",
              "        <path d=\"M19 3H5c-1.1 0-2 .9-2 2v14c0 1.1.9 2 2 2h14c1.1 0 2-.9 2-2V5c0-1.1-.9-2-2-2zM9 17H7v-7h2v7zm4 0h-2V7h2v10zm4 0h-2v-4h2v4z\"/>\n",
              "    </g>\n",
              "</svg>\n",
              "      </button>\n",
              "    </div>\n",
              "\n",
              "<style>\n",
              "  .colab-df-quickchart {\n",
              "    background-color: #E8F0FE;\n",
              "    border: none;\n",
              "    border-radius: 50%;\n",
              "    cursor: pointer;\n",
              "    display: none;\n",
              "    fill: #1967D2;\n",
              "    height: 32px;\n",
              "    padding: 0 0 0 0;\n",
              "    width: 32px;\n",
              "  }\n",
              "\n",
              "  .colab-df-quickchart:hover {\n",
              "    background-color: #E2EBFA;\n",
              "    box-shadow: 0px 1px 2px rgba(60, 64, 67, 0.3), 0px 1px 3px 1px rgba(60, 64, 67, 0.15);\n",
              "    fill: #174EA6;\n",
              "  }\n",
              "\n",
              "  [theme=dark] .colab-df-quickchart {\n",
              "    background-color: #3B4455;\n",
              "    fill: #D2E3FC;\n",
              "  }\n",
              "\n",
              "  [theme=dark] .colab-df-quickchart:hover {\n",
              "    background-color: #434B5C;\n",
              "    box-shadow: 0px 1px 3px 1px rgba(0, 0, 0, 0.15);\n",
              "    filter: drop-shadow(0px 1px 2px rgba(0, 0, 0, 0.3));\n",
              "    fill: #FFFFFF;\n",
              "  }\n",
              "</style>\n",
              "\n",
              "    <script>\n",
              "      async function quickchart(key) {\n",
              "        const containerElement = document.querySelector('#' + key);\n",
              "        const charts = await google.colab.kernel.invokeFunction(\n",
              "            'suggestCharts', [key], {});\n",
              "      }\n",
              "    </script>\n",
              "\n",
              "      <script>\n",
              "\n",
              "function displayQuickchartButton(domScope) {\n",
              "  let quickchartButtonEl =\n",
              "    domScope.querySelector('#df-83ebb187-6a96-4d69-bde5-c0eb06ef786c button.colab-df-quickchart');\n",
              "  quickchartButtonEl.style.display =\n",
              "    google.colab.kernel.accessAllowed ? 'block' : 'none';\n",
              "}\n",
              "\n",
              "        displayQuickchartButton(document);\n",
              "      </script>\n",
              "      <style>\n",
              "    .colab-df-container {\n",
              "      display:flex;\n",
              "      flex-wrap:wrap;\n",
              "      gap: 12px;\n",
              "    }\n",
              "\n",
              "    .colab-df-convert {\n",
              "      background-color: #E8F0FE;\n",
              "      border: none;\n",
              "      border-radius: 50%;\n",
              "      cursor: pointer;\n",
              "      display: none;\n",
              "      fill: #1967D2;\n",
              "      height: 32px;\n",
              "      padding: 0 0 0 0;\n",
              "      width: 32px;\n",
              "    }\n",
              "\n",
              "    .colab-df-convert:hover {\n",
              "      background-color: #E2EBFA;\n",
              "      box-shadow: 0px 1px 2px rgba(60, 64, 67, 0.3), 0px 1px 3px 1px rgba(60, 64, 67, 0.15);\n",
              "      fill: #174EA6;\n",
              "    }\n",
              "\n",
              "    [theme=dark] .colab-df-convert {\n",
              "      background-color: #3B4455;\n",
              "      fill: #D2E3FC;\n",
              "    }\n",
              "\n",
              "    [theme=dark] .colab-df-convert:hover {\n",
              "      background-color: #434B5C;\n",
              "      box-shadow: 0px 1px 3px 1px rgba(0, 0, 0, 0.15);\n",
              "      filter: drop-shadow(0px 1px 2px rgba(0, 0, 0, 0.3));\n",
              "      fill: #FFFFFF;\n",
              "    }\n",
              "  </style>\n",
              "\n",
              "      <script>\n",
              "        const buttonEl =\n",
              "          document.querySelector('#df-79d39d94-26ae-4732-8f2c-93536f93b245 button.colab-df-convert');\n",
              "        buttonEl.style.display =\n",
              "          google.colab.kernel.accessAllowed ? 'block' : 'none';\n",
              "\n",
              "        async function convertToInteractive(key) {\n",
              "          const element = document.querySelector('#df-79d39d94-26ae-4732-8f2c-93536f93b245');\n",
              "          const dataTable =\n",
              "            await google.colab.kernel.invokeFunction('convertToInteractive',\n",
              "                                                     [key], {});\n",
              "          if (!dataTable) return;\n",
              "\n",
              "          const docLinkHtml = 'Like what you see? Visit the ' +\n",
              "            '<a target=\"_blank\" href=https://colab.research.google.com/notebooks/data_table.ipynb>data table notebook</a>'\n",
              "            + ' to learn more about interactive tables.';\n",
              "          element.innerHTML = '';\n",
              "          dataTable['output_type'] = 'display_data';\n",
              "          await google.colab.output.renderOutput(dataTable, element);\n",
              "          const docLink = document.createElement('div');\n",
              "          docLink.innerHTML = docLinkHtml;\n",
              "          element.appendChild(docLink);\n",
              "        }\n",
              "      </script>\n",
              "    </div>\n",
              "  </div>\n"
            ]
          },
          "metadata": {},
          "execution_count": 11
        }
      ]
    },
    {
      "cell_type": "code",
      "source": [
        "df.dtypes"
      ],
      "metadata": {
        "colab": {
          "base_uri": "https://localhost:8080/"
        },
        "id": "C764vXXxXXBE",
        "outputId": "e037bbf1-66bb-41bb-9155-77af16e82a15"
      },
      "execution_count": null,
      "outputs": [
        {
          "output_type": "execute_result",
          "data": {
            "text/plain": [
              "Unnamed: 0                    int64\n",
              "model_key                    object\n",
              "mileage                       int64\n",
              "engine_power                  int64\n",
              "fuel                         object\n",
              "paint_color                  object\n",
              "car_type                     object\n",
              "private_parking_available     int64\n",
              "has_gps                       int64\n",
              "has_air_conditioning          int64\n",
              "automatic_car                 int64\n",
              "has_getaround_connect         int64\n",
              "has_speed_regulator           int64\n",
              "winter_tires                  int64\n",
              "rental_price_per_day          int64\n",
              "dtype: object"
            ]
          },
          "metadata": {},
          "execution_count": 12
        }
      ]
    },
    {
      "cell_type": "markdown",
      "source": [
        "I recieved an error while transforming becasue there are models which have only one record, hard to split them, we will replace these cars with the categories others, or we will treat them within the APIS becasue we have only three singlr cars which makes it meaningless to predict these three lines of records"
      ],
      "metadata": {
        "id": "d5hsDLzy7Sz8"
      }
    },
    {
      "cell_type": "code",
      "source": [
        "df['model_key'].value_counts()"
      ],
      "metadata": {
        "colab": {
          "base_uri": "https://localhost:8080/"
        },
        "id": "FPCjqc5S5SMU",
        "outputId": "b927ad40-fd4d-4bd7-ead5-6e62a935d658"
      },
      "execution_count": null,
      "outputs": [
        {
          "output_type": "execute_result",
          "data": {
            "text/plain": [
              "Citroën        969\n",
              "Renault        916\n",
              "BMW            827\n",
              "Peugeot        642\n",
              "Audi           526\n",
              "Nissan         275\n",
              "Mitsubishi     231\n",
              "Mercedes        97\n",
              "Volkswagen      65\n",
              "Toyota          53\n",
              "SEAT            46\n",
              "Subaru          44\n",
              "Opel            33\n",
              "Ferrari         33\n",
              "PGO             33\n",
              "Maserati        18\n",
              "Suzuki           8\n",
              "Porsche          6\n",
              "Ford             5\n",
              "KIA Motors       3\n",
              "Alfa Romeo       3\n",
              "Fiat             2\n",
              "Lexus            2\n",
              "Lamborghini      2\n",
              "Mini             1\n",
              "Mazda            1\n",
              "Honda            1\n",
              "Yamaha           1\n",
              "Name: model_key, dtype: int64"
            ]
          },
          "metadata": {},
          "execution_count": 13
        }
      ]
    },
    {
      "cell_type": "code",
      "source": [
        "common_brands = ['Citroën', 'Renault', 'BMW', 'Peugeot', 'Audi', 'Nissan', 'Mitsubishi', 'Mercedes', 'Volkswagen', 'Toyota', 'Ferrari', 'Porsche',\n",
        "                 'Maserati','Suzuki','Porsche','Ford','KIA Motors','Alfa Romeo']\n",
        "\n",
        "df['model_key'] = df['model_key'].apply(lambda x: x if x in common_brands else 'others')"
      ],
      "metadata": {
        "id": "jLGtvqaN7fDI"
      },
      "execution_count": null,
      "outputs": []
    },
    {
      "cell_type": "code",
      "source": [
        "df['model_key'].value_counts()"
      ],
      "metadata": {
        "colab": {
          "base_uri": "https://localhost:8080/"
        },
        "id": "6VdN5ccI70xV",
        "outputId": "6e7d2686-e9ea-4a40-8037-7c6473db5834"
      },
      "execution_count": null,
      "outputs": [
        {
          "output_type": "execute_result",
          "data": {
            "text/plain": [
              "Citroën       969\n",
              "Renault       916\n",
              "BMW           827\n",
              "Peugeot       642\n",
              "Audi          526\n",
              "Nissan        275\n",
              "Mitsubishi    231\n",
              "others        166\n",
              "Mercedes       97\n",
              "Volkswagen     65\n",
              "Toyota         53\n",
              "Ferrari        33\n",
              "Maserati       18\n",
              "Suzuki          8\n",
              "Porsche         6\n",
              "Ford            5\n",
              "KIA Motors      3\n",
              "Alfa Romeo      3\n",
              "Name: model_key, dtype: int64"
            ]
          },
          "metadata": {},
          "execution_count": 15
        }
      ]
    },
    {
      "cell_type": "markdown",
      "source": [
        "## replace column name from model_key to name to avoid warning at API docker"
      ],
      "metadata": {
        "id": "YmSK4e8DD31F"
      }
    },
    {
      "cell_type": "code",
      "source": [
        "df.rename(columns = {'model_key':'name'}, inplace = True)"
      ],
      "metadata": {
        "id": "aeKMC6cvUs1P"
      },
      "execution_count": null,
      "outputs": []
    },
    {
      "cell_type": "code",
      "source": [
        "X = df.drop(['Unnamed: 0','rental_price_per_day'], axis=1)\n",
        "Y = df.loc[:,'rental_price_per_day']"
      ],
      "metadata": {
        "id": "xrkWidS06BNo"
      },
      "execution_count": null,
      "outputs": []
    },
    {
      "cell_type": "code",
      "source": [
        "X.head(2)"
      ],
      "metadata": {
        "colab": {
          "base_uri": "https://localhost:8080/",
          "height": 176
        },
        "id": "L2Mwz3Z-6a_q",
        "outputId": "1d82e4a7-c4cd-423c-c7c3-0608d4f4043f"
      },
      "execution_count": null,
      "outputs": [
        {
          "output_type": "execute_result",
          "data": {
            "text/plain": [
              "      name  mileage  engine_power    fuel paint_color     car_type  \\\n",
              "0  Citroën   140411           100  diesel       black  convertible   \n",
              "1  Citroën    13929           317  petrol        grey  convertible   \n",
              "\n",
              "   private_parking_available  has_gps  has_air_conditioning  automatic_car  \\\n",
              "0                          1        1                     0              0   \n",
              "1                          1        1                     0              0   \n",
              "\n",
              "   has_getaround_connect  has_speed_regulator  winter_tires  \n",
              "0                      1                    1             1  \n",
              "1                      0                    1             1  "
            ],
            "text/html": [
              "\n",
              "\n",
              "  <div id=\"df-1ca064d0-c110-4478-ac36-664866074521\">\n",
              "    <div class=\"colab-df-container\">\n",
              "      <div>\n",
              "<style scoped>\n",
              "    .dataframe tbody tr th:only-of-type {\n",
              "        vertical-align: middle;\n",
              "    }\n",
              "\n",
              "    .dataframe tbody tr th {\n",
              "        vertical-align: top;\n",
              "    }\n",
              "\n",
              "    .dataframe thead th {\n",
              "        text-align: right;\n",
              "    }\n",
              "</style>\n",
              "<table border=\"1\" class=\"dataframe\">\n",
              "  <thead>\n",
              "    <tr style=\"text-align: right;\">\n",
              "      <th></th>\n",
              "      <th>name</th>\n",
              "      <th>mileage</th>\n",
              "      <th>engine_power</th>\n",
              "      <th>fuel</th>\n",
              "      <th>paint_color</th>\n",
              "      <th>car_type</th>\n",
              "      <th>private_parking_available</th>\n",
              "      <th>has_gps</th>\n",
              "      <th>has_air_conditioning</th>\n",
              "      <th>automatic_car</th>\n",
              "      <th>has_getaround_connect</th>\n",
              "      <th>has_speed_regulator</th>\n",
              "      <th>winter_tires</th>\n",
              "    </tr>\n",
              "  </thead>\n",
              "  <tbody>\n",
              "    <tr>\n",
              "      <th>0</th>\n",
              "      <td>Citroën</td>\n",
              "      <td>140411</td>\n",
              "      <td>100</td>\n",
              "      <td>diesel</td>\n",
              "      <td>black</td>\n",
              "      <td>convertible</td>\n",
              "      <td>1</td>\n",
              "      <td>1</td>\n",
              "      <td>0</td>\n",
              "      <td>0</td>\n",
              "      <td>1</td>\n",
              "      <td>1</td>\n",
              "      <td>1</td>\n",
              "    </tr>\n",
              "    <tr>\n",
              "      <th>1</th>\n",
              "      <td>Citroën</td>\n",
              "      <td>13929</td>\n",
              "      <td>317</td>\n",
              "      <td>petrol</td>\n",
              "      <td>grey</td>\n",
              "      <td>convertible</td>\n",
              "      <td>1</td>\n",
              "      <td>1</td>\n",
              "      <td>0</td>\n",
              "      <td>0</td>\n",
              "      <td>0</td>\n",
              "      <td>1</td>\n",
              "      <td>1</td>\n",
              "    </tr>\n",
              "  </tbody>\n",
              "</table>\n",
              "</div>\n",
              "      <button class=\"colab-df-convert\" onclick=\"convertToInteractive('df-1ca064d0-c110-4478-ac36-664866074521')\"\n",
              "              title=\"Convert this dataframe to an interactive table.\"\n",
              "              style=\"display:none;\">\n",
              "\n",
              "  <svg xmlns=\"http://www.w3.org/2000/svg\" height=\"24px\"viewBox=\"0 0 24 24\"\n",
              "       width=\"24px\">\n",
              "    <path d=\"M0 0h24v24H0V0z\" fill=\"none\"/>\n",
              "    <path d=\"M18.56 5.44l.94 2.06.94-2.06 2.06-.94-2.06-.94-.94-2.06-.94 2.06-2.06.94zm-11 1L8.5 8.5l.94-2.06 2.06-.94-2.06-.94L8.5 2.5l-.94 2.06-2.06.94zm10 10l.94 2.06.94-2.06 2.06-.94-2.06-.94-.94-2.06-.94 2.06-2.06.94z\"/><path d=\"M17.41 7.96l-1.37-1.37c-.4-.4-.92-.59-1.43-.59-.52 0-1.04.2-1.43.59L10.3 9.45l-7.72 7.72c-.78.78-.78 2.05 0 2.83L4 21.41c.39.39.9.59 1.41.59.51 0 1.02-.2 1.41-.59l7.78-7.78 2.81-2.81c.8-.78.8-2.07 0-2.86zM5.41 20L4 18.59l7.72-7.72 1.47 1.35L5.41 20z\"/>\n",
              "  </svg>\n",
              "      </button>\n",
              "\n",
              "\n",
              "\n",
              "    <div id=\"df-57c2e19f-0f6f-4eaa-a0eb-84cc364f6966\">\n",
              "      <button class=\"colab-df-quickchart\" onclick=\"quickchart('df-57c2e19f-0f6f-4eaa-a0eb-84cc364f6966')\"\n",
              "              title=\"Suggest charts.\"\n",
              "              style=\"display:none;\">\n",
              "\n",
              "<svg xmlns=\"http://www.w3.org/2000/svg\" height=\"24px\"viewBox=\"0 0 24 24\"\n",
              "     width=\"24px\">\n",
              "    <g>\n",
              "        <path d=\"M19 3H5c-1.1 0-2 .9-2 2v14c0 1.1.9 2 2 2h14c1.1 0 2-.9 2-2V5c0-1.1-.9-2-2-2zM9 17H7v-7h2v7zm4 0h-2V7h2v10zm4 0h-2v-4h2v4z\"/>\n",
              "    </g>\n",
              "</svg>\n",
              "      </button>\n",
              "    </div>\n",
              "\n",
              "<style>\n",
              "  .colab-df-quickchart {\n",
              "    background-color: #E8F0FE;\n",
              "    border: none;\n",
              "    border-radius: 50%;\n",
              "    cursor: pointer;\n",
              "    display: none;\n",
              "    fill: #1967D2;\n",
              "    height: 32px;\n",
              "    padding: 0 0 0 0;\n",
              "    width: 32px;\n",
              "  }\n",
              "\n",
              "  .colab-df-quickchart:hover {\n",
              "    background-color: #E2EBFA;\n",
              "    box-shadow: 0px 1px 2px rgba(60, 64, 67, 0.3), 0px 1px 3px 1px rgba(60, 64, 67, 0.15);\n",
              "    fill: #174EA6;\n",
              "  }\n",
              "\n",
              "  [theme=dark] .colab-df-quickchart {\n",
              "    background-color: #3B4455;\n",
              "    fill: #D2E3FC;\n",
              "  }\n",
              "\n",
              "  [theme=dark] .colab-df-quickchart:hover {\n",
              "    background-color: #434B5C;\n",
              "    box-shadow: 0px 1px 3px 1px rgba(0, 0, 0, 0.15);\n",
              "    filter: drop-shadow(0px 1px 2px rgba(0, 0, 0, 0.3));\n",
              "    fill: #FFFFFF;\n",
              "  }\n",
              "</style>\n",
              "\n",
              "    <script>\n",
              "      async function quickchart(key) {\n",
              "        const containerElement = document.querySelector('#' + key);\n",
              "        const charts = await google.colab.kernel.invokeFunction(\n",
              "            'suggestCharts', [key], {});\n",
              "      }\n",
              "    </script>\n",
              "\n",
              "      <script>\n",
              "\n",
              "function displayQuickchartButton(domScope) {\n",
              "  let quickchartButtonEl =\n",
              "    domScope.querySelector('#df-57c2e19f-0f6f-4eaa-a0eb-84cc364f6966 button.colab-df-quickchart');\n",
              "  quickchartButtonEl.style.display =\n",
              "    google.colab.kernel.accessAllowed ? 'block' : 'none';\n",
              "}\n",
              "\n",
              "        displayQuickchartButton(document);\n",
              "      </script>\n",
              "      <style>\n",
              "    .colab-df-container {\n",
              "      display:flex;\n",
              "      flex-wrap:wrap;\n",
              "      gap: 12px;\n",
              "    }\n",
              "\n",
              "    .colab-df-convert {\n",
              "      background-color: #E8F0FE;\n",
              "      border: none;\n",
              "      border-radius: 50%;\n",
              "      cursor: pointer;\n",
              "      display: none;\n",
              "      fill: #1967D2;\n",
              "      height: 32px;\n",
              "      padding: 0 0 0 0;\n",
              "      width: 32px;\n",
              "    }\n",
              "\n",
              "    .colab-df-convert:hover {\n",
              "      background-color: #E2EBFA;\n",
              "      box-shadow: 0px 1px 2px rgba(60, 64, 67, 0.3), 0px 1px 3px 1px rgba(60, 64, 67, 0.15);\n",
              "      fill: #174EA6;\n",
              "    }\n",
              "\n",
              "    [theme=dark] .colab-df-convert {\n",
              "      background-color: #3B4455;\n",
              "      fill: #D2E3FC;\n",
              "    }\n",
              "\n",
              "    [theme=dark] .colab-df-convert:hover {\n",
              "      background-color: #434B5C;\n",
              "      box-shadow: 0px 1px 3px 1px rgba(0, 0, 0, 0.15);\n",
              "      filter: drop-shadow(0px 1px 2px rgba(0, 0, 0, 0.3));\n",
              "      fill: #FFFFFF;\n",
              "    }\n",
              "  </style>\n",
              "\n",
              "      <script>\n",
              "        const buttonEl =\n",
              "          document.querySelector('#df-1ca064d0-c110-4478-ac36-664866074521 button.colab-df-convert');\n",
              "        buttonEl.style.display =\n",
              "          google.colab.kernel.accessAllowed ? 'block' : 'none';\n",
              "\n",
              "        async function convertToInteractive(key) {\n",
              "          const element = document.querySelector('#df-1ca064d0-c110-4478-ac36-664866074521');\n",
              "          const dataTable =\n",
              "            await google.colab.kernel.invokeFunction('convertToInteractive',\n",
              "                                                     [key], {});\n",
              "          if (!dataTable) return;\n",
              "\n",
              "          const docLinkHtml = 'Like what you see? Visit the ' +\n",
              "            '<a target=\"_blank\" href=https://colab.research.google.com/notebooks/data_table.ipynb>data table notebook</a>'\n",
              "            + ' to learn more about interactive tables.';\n",
              "          element.innerHTML = '';\n",
              "          dataTable['output_type'] = 'display_data';\n",
              "          await google.colab.output.renderOutput(dataTable, element);\n",
              "          const docLink = document.createElement('div');\n",
              "          docLink.innerHTML = docLinkHtml;\n",
              "          element.appendChild(docLink);\n",
              "        }\n",
              "      </script>\n",
              "    </div>\n",
              "  </div>\n"
            ]
          },
          "metadata": {},
          "execution_count": 18
        }
      ]
    },
    {
      "cell_type": "code",
      "source": [
        "Y.head(2)"
      ],
      "metadata": {
        "colab": {
          "base_uri": "https://localhost:8080/"
        },
        "id": "JmKrycSk6fAA",
        "outputId": "45902eff-4170-4728-b078-a9c81770adab"
      },
      "execution_count": null,
      "outputs": [
        {
          "output_type": "execute_result",
          "data": {
            "text/plain": [
              "0    106\n",
              "1    264\n",
              "Name: rental_price_per_day, dtype: int64"
            ]
          },
          "metadata": {},
          "execution_count": 19
        }
      ]
    },
    {
      "cell_type": "code",
      "source": [
        "X_train, X_test, Y_train, Y_test = train_test_split(X, Y, test_size=0.2, random_state=0)\n"
      ],
      "metadata": {
        "id": "EZmaeJxy6jXH"
      },
      "execution_count": null,
      "outputs": []
    },
    {
      "cell_type": "markdown",
      "source": [
        "# 3.b) pipeline Preprocessing"
      ],
      "metadata": {
        "id": "MYqo3lF4z7A0"
      }
    },
    {
      "cell_type": "code",
      "source": [
        "numeric_features = ['mileage','engine_power']\n",
        "\n",
        "# Actually there are neither missing data and no need to scale if it is a decsion tree to be used\n",
        "numeric_transformer = Pipeline(steps=[\n",
        "    ('imputer', SimpleImputer(strategy='median')), # missing values will be replaced by columns' median\n",
        "    ('scaler', StandardScaler())\n",
        "])\n",
        "\n",
        "\n",
        "\n",
        "categorical_features = ['name','fuel','paint_color', 'car_type',\n",
        "                        'private_parking_available', 'has_gps', 'has_air_conditioning', 'automatic_car', 'has_getaround_connect',\n",
        "                        'has_speed_regulator', 'winter_tires']\n",
        "\n",
        "categorical_transformer = OneHotEncoder(drop='first') # no missing values in categorical data, so we only need the OHE\n",
        "\n",
        "\n",
        "preprocessor = ColumnTransformer(\n",
        "    transformers=[\n",
        "        ('num', numeric_transformer, numeric_features),\n",
        "        ('cat', categorical_transformer, categorical_features)\n",
        "    ])\n",
        "\n"
      ],
      "metadata": {
        "id": "Q9jvH5mRzj2u"
      },
      "execution_count": null,
      "outputs": []
    },
    {
      "cell_type": "markdown",
      "source": [
        "Since this is a regression model and the result is a number no need for the label encoder because it is not a classification case"
      ],
      "metadata": {
        "id": "PBsN8zHu1p97"
      }
    },
    {
      "cell_type": "markdown",
      "source": [],
      "metadata": {
        "id": "Rwr7g9-P14Y6"
      }
    },
    {
      "cell_type": "code",
      "source": [
        "# Preprocessings on train set\n",
        "print(\"Performing preprocessings on train set...\")\n",
        "print(X_train.head())\n",
        "X_train = preprocessor.fit_transform(X_train)\n",
        "print('...Done.')\n",
        "print(X_train[0:5])\n",
        "print()\n",
        "\n",
        "# Preprocessings on test set\n",
        "print(\"Performing preprocessings on test set...\")\n",
        "print(X_test.head())\n",
        "X_test = preprocessor.transform(X_test) # NO  fit in here\n",
        "print('...Done.')\n",
        "print(X_test[0:5,:]) # MUST use this syntax becaus"
      ],
      "metadata": {
        "colab": {
          "base_uri": "https://localhost:8080/"
        },
        "id": "kicARUrc2PBa",
        "outputId": "c04074c3-1c51-48a0-fd0c-185db2256d06"
      },
      "execution_count": null,
      "outputs": [
        {
          "output_type": "stream",
          "name": "stdout",
          "text": [
            "Performing preprocessings on train set...\n",
            "         name  mileage  engine_power    fuel paint_color car_type  \\\n",
            "4550      BMW   132485           135  diesel       white      suv   \n",
            "1237  Citroën   131121           135  diesel       black   estate   \n",
            "3158  Renault   209216           135  diesel        grey    sedan   \n",
            "900   Peugeot   148986           100  diesel       black   estate   \n",
            "933   Citroën   170500           135  diesel       black   estate   \n",
            "\n",
            "      private_parking_available  has_gps  has_air_conditioning  automatic_car  \\\n",
            "4550                          1        1                     0              0   \n",
            "1237                          0        1                     0              0   \n",
            "3158                          1        1                     0              0   \n",
            "900                           1        1                     0              0   \n",
            "933                           1        1                     0              0   \n",
            "\n",
            "      has_getaround_connect  has_speed_regulator  winter_tires  \n",
            "4550                      0                    0             1  \n",
            "1237                      1                    0             1  \n",
            "3158                      1                    0             1  \n",
            "900                       0                    0             1  \n",
            "933                       0                    0             1  \n",
            "...Done.\n",
            "  (0, 0)\t-0.13697524611219603\n",
            "  (0, 1)\t0.16120867170881872\n",
            "  (0, 3)\t1.0\n",
            "  (0, 30)\t1.0\n",
            "  (0, 36)\t1.0\n",
            "  (0, 38)\t1.0\n",
            "  (0, 39)\t1.0\n",
            "  (0, 44)\t1.0\n",
            "  (1, 0)\t-0.1601928122265152\n",
            "  (1, 1)\t0.16120867170881872\n",
            "  (1, 4)\t1.0\n",
            "  (1, 22)\t1.0\n",
            "  (1, 32)\t1.0\n",
            "  (1, 39)\t1.0\n",
            "  (1, 42)\t1.0\n",
            "  (1, 44)\t1.0\n",
            "  (2, 0)\t1.1691149778744785\n",
            "  (2, 1)\t0.16120867170881872\n",
            "  (2, 14)\t1.0\n",
            "  (2, 26)\t1.0\n",
            "  (2, 34)\t1.0\n",
            "  (2, 38)\t1.0\n",
            "  (2, 39)\t1.0\n",
            "  (2, 42)\t1.0\n",
            "  (2, 44)\t1.0\n",
            "  (3, 0)\t0.14389943017254048\n",
            "  (3, 1)\t-0.7407589686724106\n",
            "  (3, 12)\t1.0\n",
            "  (3, 22)\t1.0\n",
            "  (3, 32)\t1.0\n",
            "  (3, 38)\t1.0\n",
            "  (3, 39)\t1.0\n",
            "  (3, 44)\t1.0\n",
            "  (4, 0)\t0.510103768430211\n",
            "  (4, 1)\t0.16120867170881872\n",
            "  (4, 4)\t1.0\n",
            "  (4, 22)\t1.0\n",
            "  (4, 32)\t1.0\n",
            "  (4, 38)\t1.0\n",
            "  (4, 39)\t1.0\n",
            "  (4, 44)\t1.0\n",
            "\n",
            "Performing preprocessings on test set...\n",
            "         name  mileage  engine_power    fuel paint_color   car_type  \\\n",
            "1621  Renault   193231            85  diesel       black     estate   \n",
            "4098      BMW    69362           135  diesel        grey        suv   \n",
            "3135     Audi   321498           170  diesel        blue      sedan   \n",
            "1861  Citroën   192063            90  diesel       black  hatchback   \n",
            "1571  Peugeot   164659           100  diesel       white     estate   \n",
            "\n",
            "      private_parking_available  has_gps  has_air_conditioning  automatic_car  \\\n",
            "1621                          0        1                     0              0   \n",
            "4098                          1        1                     0              1   \n",
            "3135                          1        1                     1              0   \n",
            "1861                          0        0                     0              0   \n",
            "1571                          1        1                     0              0   \n",
            "\n",
            "      has_getaround_connect  has_speed_regulator  winter_tires  \n",
            "1621                      0                    0             1  \n",
            "4098                      1                    1             1  \n",
            "3135                      1                    1             1  \n",
            "1861                      0                    0             1  \n",
            "1571                      0                    0             1  \n",
            "...Done.\n",
            "  (0, 0)\t0.8970234864247778\n",
            "  (0, 1)\t-1.1273165288357947\n",
            "  (0, 14)\t1.0\n",
            "  (0, 22)\t1.0\n",
            "  (0, 32)\t1.0\n",
            "  (0, 39)\t1.0\n",
            "  (0, 44)\t1.0\n",
            "  (1, 0)\t-1.2114345025888595\n",
            "  (1, 1)\t0.16120867170881872\n",
            "  (1, 3)\t1.0\n",
            "  (1, 26)\t1.0\n",
            "  (1, 36)\t1.0\n",
            "  (1, 38)\t1.0\n",
            "  (1, 39)\t1.0\n",
            "  (1, 41)\t1.0\n",
            "  (1, 42)\t1.0\n",
            "  (1, 43)\t1.0\n",
            "  (1, 44)\t1.0\n",
            "  (2, 0)\t3.080342806648661\n",
            "  (2, 1)\t1.0631763120900481\n",
            "  (2, 2)\t1.0\n",
            "  (2, 23)\t1.0\n",
            "  (2, 34)\t1.0\n",
            "  (2, 38)\t1.0\n",
            "  (2, 39)\t1.0\n",
            "  (2, 40)\t1.0\n",
            "  (2, 42)\t1.0\n",
            "  (2, 43)\t1.0\n",
            "  (2, 44)\t1.0\n",
            "  (3, 0)\t0.8771421688136892\n",
            "  (3, 1)\t-0.9984640087813332\n",
            "  (3, 4)\t1.0\n",
            "  (3, 22)\t1.0\n",
            "  (3, 33)\t1.0\n",
            "  (3, 44)\t1.0\n",
            "  (4, 0)\t0.41068015869873137\n",
            "  (4, 1)\t-0.7407589686724106\n",
            "  (4, 12)\t1.0\n",
            "  (4, 30)\t1.0\n",
            "  (4, 32)\t1.0\n",
            "  (4, 38)\t1.0\n",
            "  (4, 39)\t1.0\n",
            "  (4, 44)\t1.0\n"
          ]
        }
      ]
    },
    {
      "cell_type": "markdown",
      "source": [
        "# 4) model"
      ],
      "metadata": {
        "id": "wyg_DpRb-5xM"
      }
    },
    {
      "cell_type": "markdown",
      "source": [
        "## Random Forest"
      ],
      "metadata": {
        "id": "HpaUqibxlw2B"
      }
    },
    {
      "cell_type": "code",
      "source": [
        "# attention it is a regression situation, use random forest regresion\n",
        "# RANDOMFOREST\n",
        "regressor = RandomForestRegressor()\n",
        "\n",
        "# Grid of values to be tested\n",
        "params = {\n",
        "    'max_depth': [3, 8, 10],\n",
        "    'min_samples_split': [2,4, 8],\n",
        "    'n_estimators': [20]\n",
        "}\n",
        "gridsearch = GridSearchCV(regressor, param_grid = params, cv = 3, verbose = 2)\n",
        "gridsearch.fit(X_train, Y_train)\n",
        "print(\"...Done.\")\n",
        "print(\"Best hyperparameters : \", gridsearch.best_params_)\n",
        "print(\"Best validation accuracy : \", gridsearch.best_score_)\n"
      ],
      "metadata": {
        "colab": {
          "base_uri": "https://localhost:8080/"
        },
        "id": "n09IKmUO9wKM",
        "outputId": "87b29a1f-a67e-4dbe-a756-655911715dc3"
      },
      "execution_count": null,
      "outputs": [
        {
          "output_type": "stream",
          "name": "stdout",
          "text": [
            "Fitting 3 folds for each of 9 candidates, totalling 27 fits\n",
            "[CV] END ..max_depth=3, min_samples_split=2, n_estimators=20; total time=   0.1s\n",
            "[CV] END ..max_depth=3, min_samples_split=2, n_estimators=20; total time=   0.1s\n",
            "[CV] END ..max_depth=3, min_samples_split=2, n_estimators=20; total time=   0.1s\n",
            "[CV] END ..max_depth=3, min_samples_split=4, n_estimators=20; total time=   0.1s\n",
            "[CV] END ..max_depth=3, min_samples_split=4, n_estimators=20; total time=   0.1s\n",
            "[CV] END ..max_depth=3, min_samples_split=4, n_estimators=20; total time=   0.1s\n",
            "[CV] END ..max_depth=3, min_samples_split=8, n_estimators=20; total time=   0.1s\n",
            "[CV] END ..max_depth=3, min_samples_split=8, n_estimators=20; total time=   0.1s\n",
            "[CV] END ..max_depth=3, min_samples_split=8, n_estimators=20; total time=   0.1s\n",
            "[CV] END ..max_depth=8, min_samples_split=2, n_estimators=20; total time=   0.4s\n",
            "[CV] END ..max_depth=8, min_samples_split=2, n_estimators=20; total time=   0.4s\n",
            "[CV] END ..max_depth=8, min_samples_split=2, n_estimators=20; total time=   0.4s\n",
            "[CV] END ..max_depth=8, min_samples_split=4, n_estimators=20; total time=   0.4s\n",
            "[CV] END ..max_depth=8, min_samples_split=4, n_estimators=20; total time=   0.4s\n",
            "[CV] END ..max_depth=8, min_samples_split=4, n_estimators=20; total time=   0.4s\n",
            "[CV] END ..max_depth=8, min_samples_split=8, n_estimators=20; total time=   0.4s\n",
            "[CV] END ..max_depth=8, min_samples_split=8, n_estimators=20; total time=   0.4s\n",
            "[CV] END ..max_depth=8, min_samples_split=8, n_estimators=20; total time=   0.3s\n",
            "[CV] END .max_depth=10, min_samples_split=2, n_estimators=20; total time=   0.5s\n",
            "[CV] END .max_depth=10, min_samples_split=2, n_estimators=20; total time=   0.5s\n",
            "[CV] END .max_depth=10, min_samples_split=2, n_estimators=20; total time=   0.5s\n",
            "[CV] END .max_depth=10, min_samples_split=4, n_estimators=20; total time=   0.5s\n",
            "[CV] END .max_depth=10, min_samples_split=4, n_estimators=20; total time=   0.5s\n",
            "[CV] END .max_depth=10, min_samples_split=4, n_estimators=20; total time=   0.5s\n",
            "[CV] END .max_depth=10, min_samples_split=8, n_estimators=20; total time=   0.4s\n",
            "[CV] END .max_depth=10, min_samples_split=8, n_estimators=20; total time=   0.4s\n",
            "[CV] END .max_depth=10, min_samples_split=8, n_estimators=20; total time=   0.4s\n",
            "...Done.\n",
            "Best hyperparameters :  {'max_depth': 10, 'min_samples_split': 2, 'n_estimators': 20}\n",
            "Best validation accuracy :  0.7262749523674391\n"
          ]
        }
      ]
    },
    {
      "cell_type": "code",
      "source": [
        "print(\"R2 score on training set : \", gridsearch.score(X_train, Y_train))\n",
        "print(\"R2 score on test set : \", gridsearch.score(X_test, Y_test))"
      ],
      "metadata": {
        "colab": {
          "base_uri": "https://localhost:8080/"
        },
        "id": "5Mo7NOVM_FuT",
        "outputId": "1db59402-37de-4e9d-daa9-9ae0816b5048"
      },
      "execution_count": null,
      "outputs": [
        {
          "output_type": "stream",
          "name": "stdout",
          "text": [
            "R2 score on training set :  0.8832941658667977\n",
            "R2 score on test set :  0.7527544144703197\n"
          ]
        }
      ]
    },
    {
      "cell_type": "markdown",
      "source": [
        "## XG Boost"
      ],
      "metadata": {
        "id": "GJuLmbv-l1gI"
      }
    },
    {
      "cell_type": "code",
      "source": [
        "#XGBoost\n",
        "# attention it is a regression situation, use random forest regresion\n",
        "\n",
        "regressor = GradientBoostingRegressor()\n",
        "\n",
        "# Grid of values to be tested\n",
        "params = {\n",
        "    'n_estimators': [100, 250],\n",
        "        'learning_rate': [0.05, 0.1],\n",
        "        'max_depth': [4, 8],\n",
        "        'subsample': [0.8],\n",
        "}\n",
        "gridsearch = GridSearchCV(regressor, param_grid = params, cv = 3, verbose = 2)\n",
        "gridsearch.fit(X_train, Y_train)\n",
        "print(\"...Done.\")\n",
        "print(\"Best hyperparameters : \", gridsearch.best_params_)\n",
        "print(\"Best validation accuracy : \", gridsearch.best_score_)\n",
        "\n",
        "print(\"R2 score on training set : \", gridsearch.score(X_train, Y_train))\n",
        "print(\"R2 score on test set : \", gridsearch.score(X_test, Y_test))\n"
      ],
      "metadata": {
        "colab": {
          "base_uri": "https://localhost:8080/"
        },
        "id": "dU-k1XS6CnUl",
        "outputId": "ee94e12b-a14a-4a13-d57a-38c27f2117cb"
      },
      "execution_count": null,
      "outputs": [
        {
          "output_type": "stream",
          "name": "stdout",
          "text": [
            "Fitting 3 folds for each of 8 candidates, totalling 24 fits\n",
            "[CV] END learning_rate=0.05, max_depth=4, n_estimators=100, subsample=0.8; total time=   0.5s\n",
            "[CV] END learning_rate=0.05, max_depth=4, n_estimators=100, subsample=0.8; total time=   0.5s\n",
            "[CV] END learning_rate=0.05, max_depth=4, n_estimators=100, subsample=0.8; total time=   0.5s\n",
            "[CV] END learning_rate=0.05, max_depth=4, n_estimators=250, subsample=0.8; total time=   1.3s\n",
            "[CV] END learning_rate=0.05, max_depth=4, n_estimators=250, subsample=0.8; total time=   1.7s\n",
            "[CV] END learning_rate=0.05, max_depth=4, n_estimators=250, subsample=0.8; total time=   1.5s\n",
            "[CV] END learning_rate=0.05, max_depth=8, n_estimators=100, subsample=0.8; total time=   1.5s\n",
            "[CV] END learning_rate=0.05, max_depth=8, n_estimators=100, subsample=0.8; total time=   1.5s\n",
            "[CV] END learning_rate=0.05, max_depth=8, n_estimators=100, subsample=0.8; total time=   1.4s\n",
            "[CV] END learning_rate=0.05, max_depth=8, n_estimators=250, subsample=0.8; total time=   3.2s\n",
            "[CV] END learning_rate=0.05, max_depth=8, n_estimators=250, subsample=0.8; total time=   3.5s\n",
            "[CV] END learning_rate=0.05, max_depth=8, n_estimators=250, subsample=0.8; total time=   3.7s\n",
            "[CV] END learning_rate=0.1, max_depth=4, n_estimators=100, subsample=0.8; total time=   0.5s\n",
            "[CV] END learning_rate=0.1, max_depth=4, n_estimators=100, subsample=0.8; total time=   0.5s\n",
            "[CV] END learning_rate=0.1, max_depth=4, n_estimators=100, subsample=0.8; total time=   0.5s\n",
            "[CV] END learning_rate=0.1, max_depth=4, n_estimators=250, subsample=0.8; total time=   1.1s\n",
            "[CV] END learning_rate=0.1, max_depth=4, n_estimators=250, subsample=0.8; total time=   1.1s\n",
            "[CV] END learning_rate=0.1, max_depth=4, n_estimators=250, subsample=0.8; total time=   1.1s\n",
            "[CV] END learning_rate=0.1, max_depth=8, n_estimators=100, subsample=0.8; total time=   1.3s\n",
            "[CV] END learning_rate=0.1, max_depth=8, n_estimators=100, subsample=0.8; total time=   1.3s\n",
            "[CV] END learning_rate=0.1, max_depth=8, n_estimators=100, subsample=0.8; total time=   1.5s\n",
            "[CV] END learning_rate=0.1, max_depth=8, n_estimators=250, subsample=0.8; total time=   3.8s\n",
            "[CV] END learning_rate=0.1, max_depth=8, n_estimators=250, subsample=0.8; total time=   3.0s\n",
            "[CV] END learning_rate=0.1, max_depth=8, n_estimators=250, subsample=0.8; total time=   3.4s\n",
            "...Done.\n",
            "Best hyperparameters :  {'learning_rate': 0.05, 'max_depth': 8, 'n_estimators': 100, 'subsample': 0.8}\n",
            "Best validation accuracy :  0.7512362031461829\n",
            "R2 score on training set :  0.9405361508290839\n",
            "R2 score on test set :  0.7832729013773022\n"
          ]
        }
      ]
    },
    {
      "cell_type": "markdown",
      "source": [
        "## Ridge grissearch"
      ],
      "metadata": {
        "id": "kYeFZf9Dl3zt"
      }
    },
    {
      "cell_type": "code",
      "source": [
        "regressor = Ridge()\n",
        "# Grid of values to be tested\n",
        "params = {\n",
        "    'alpha': [0.0, 0.1, 0.5, 1.0,1.5,2] # 0 corresponds to no regularization\n",
        "}\n",
        "gridsearch = GridSearchCV(regressor, param_grid = params, cv = 3) # cv : the number of folds to be used for CV\n",
        "gridsearch.fit(X_train, Y_train)\n",
        "print(\"...Done.\")\n",
        "print(\"Best hyperparameters : \", gridsearch.best_params_)\n",
        "print(\"Best R2 score : \", gridsearch.best_score_)\n",
        "print(\"R2 score on training set : \", gridsearch.score(X_train, Y_train))\n",
        "print(\"R2 score on test set : \", gridsearch.score(X_test, Y_test))"
      ],
      "metadata": {
        "colab": {
          "base_uri": "https://localhost:8080/"
        },
        "id": "wCZWUoS5FG7O",
        "outputId": "d6bdef4f-f267-400d-8f5b-0d2a3709823b"
      },
      "execution_count": null,
      "outputs": [
        {
          "output_type": "stream",
          "name": "stdout",
          "text": [
            "...Done.\n",
            "Best hyperparameters :  {'alpha': 2}\n",
            "Best R2 score :  0.6961122011226285\n",
            "R2 score on training set :  0.7077908859467673\n",
            "R2 score on test set :  0.6802540329565605\n"
          ]
        }
      ]
    },
    {
      "cell_type": "code",
      "source": [
        "# save the scaler\n",
        "joblib.dump(preprocessor,'scaler_v3.joblib')\n"
      ],
      "metadata": {
        "colab": {
          "base_uri": "https://localhost:8080/"
        },
        "id": "3wImNgcfKPs7",
        "outputId": "e93893a7-98e6-4b60-bb43-b9dafa68f240"
      },
      "execution_count": null,
      "outputs": [
        {
          "output_type": "execute_result",
          "data": {
            "text/plain": [
              "['scaler_v3.joblib']"
            ]
          },
          "metadata": {},
          "execution_count": 185
        }
      ]
    },
    {
      "cell_type": "code",
      "source": [
        "# save the model\n",
        "joblib.dump(gridsearch, 'regressor_ridge_v3.joblib')"
      ],
      "metadata": {
        "colab": {
          "base_uri": "https://localhost:8080/"
        },
        "id": "9GgUCzW_2KYz",
        "outputId": "1dea86c2-2887-4955-8799-a167ec49071f"
      },
      "execution_count": null,
      "outputs": [
        {
          "output_type": "execute_result",
          "data": {
            "text/plain": [
              "['regressor_ridge_v3.joblib']"
            ]
          },
          "metadata": {},
          "execution_count": 190
        }
      ]
    },
    {
      "cell_type": "markdown",
      "source": [
        "# Prediction Test"
      ],
      "metadata": {
        "id": "SbwXDd6fpqSE"
      }
    },
    {
      "cell_type": "code",
      "source": [
        "model = joblib.load('regressor_ridge_v3.joblib')\n",
        "scaler = joblib.load('scaler_v3.joblib')\n"
      ],
      "metadata": {
        "id": "A4ldsakfsAXu"
      },
      "execution_count": null,
      "outputs": []
    },
    {
      "cell_type": "code",
      "source": [
        "entity ={\n",
        "  \"name\": \"Peugeot\",\n",
        "  \"mileage\": 123886,\n",
        "  \"engine_power\": 125,\n",
        "  \"fuel\": \"petrol\",\n",
        "  \"paint_color\": \"black\",\n",
        "  \"car_type\": \"convertible\",\n",
        "  \"private_parking_available\": 1,\n",
        "  \"has_gps\": 0,\n",
        "  \"has_air_conditioning\": 0,\n",
        "  \"automatic_car\": 0,\n",
        "  \"has_getaround_connect\": 0,\n",
        "  \"has_speed_regulator\": 1,\n",
        "  \"winter_tires\": 1\n",
        "}"
      ],
      "metadata": {
        "id": "JDQHPGW3qFR-"
      },
      "execution_count": null,
      "outputs": []
    },
    {
      "cell_type": "code",
      "source": [
        "scaled_X = scaler.transform(entity)"
      ],
      "metadata": {
        "id": "Aqjkz1jXsAVK"
      },
      "execution_count": null,
      "outputs": []
    },
    {
      "cell_type": "code",
      "source": [
        "y_pred = model.predict(scaled_X)"
      ],
      "metadata": {
        "id": "Ktsnj7uD1dkL"
      },
      "execution_count": null,
      "outputs": []
    },
    {
      "cell_type": "code",
      "source": [
        "y_pred"
      ],
      "metadata": {
        "colab": {
          "base_uri": "https://localhost:8080/"
        },
        "id": "jTrNYl8J2VNd",
        "outputId": "fd8c6d0e-723e-41ec-f098-46f8ef935d1e"
      },
      "execution_count": null,
      "outputs": [
        {
          "output_type": "execute_result",
          "data": {
            "text/plain": [
              "array([123.95873578])"
            ]
          },
          "metadata": {},
          "execution_count": 127
        }
      ]
    },
    {
      "cell_type": "markdown",
      "source": [
        "# Save the model"
      ],
      "metadata": {
        "id": "8gc3hydJ93GL"
      }
    },
    {
      "cell_type": "code",
      "source": [
        "# to save the model\n",
        "model = gridsearch\n",
        "pickle.dump(model, open('model.pkl', 'wb'))"
      ],
      "metadata": {
        "id": "fQrc6HR7XBdp"
      },
      "execution_count": null,
      "outputs": []
    },
    {
      "cell_type": "code",
      "source": [
        "pickled_model = pickle.load(open('model.pkl', 'rb'))"
      ],
      "metadata": {
        "id": "8vYQAGyJXGWW"
      },
      "execution_count": null,
      "outputs": []
    },
    {
      "cell_type": "code",
      "source": [
        "pip show scikit-learn\n"
      ],
      "metadata": {
        "colab": {
          "base_uri": "https://localhost:8080/"
        },
        "id": "ZzoxTs6PcMPI",
        "outputId": "3d0b0cb0-a16c-4db7-d2af-8957022b12e3"
      },
      "execution_count": null,
      "outputs": [
        {
          "output_type": "stream",
          "name": "stdout",
          "text": [
            "Name: scikit-learn\n",
            "Version: 1.2.2\n",
            "Summary: A set of python modules for machine learning and data mining\n",
            "Home-page: http://scikit-learn.org\n",
            "Author: \n",
            "Author-email: \n",
            "License: new BSD\n",
            "Location: /usr/local/lib/python3.10/dist-packages\n",
            "Requires: joblib, numpy, scipy, threadpoolctl\n",
            "Required-by: fastai, imbalanced-learn, librosa, lightgbm, mlxtend, qudida, sklearn-pandas, yellowbrick\n"
          ]
        }
      ]
    }
  ]
}